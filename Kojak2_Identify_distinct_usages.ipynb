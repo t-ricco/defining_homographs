{
 "cells": [
  {
   "cell_type": "markdown",
   "metadata": {},
   "source": [
    "### Project Kojak\n",
    "\n",
    "** The problem  **\n",
    "\n",
    "We will attempt to identify amboguously defined words - words that are homographs (spelled the same, but with multiple meanings) and determine the exact meaning of the word from a context window.\n",
    "\n",
    "Here we attempt to do this in a few stages\n",
    "1. train a word embedding on some training corpus using skip-gram (Here we use 1000 sholarly research papers) \n",
    "2. identify common homographs and extract the various context windows\n",
    "3. interpret the context windows as vectors in the embedding space and appy a clustering algorith (DBSCAN). Each cluster is interpreted as a distinct definition of the homograph. Each cluster then is representative vector.\n",
    "4. apply to a test corpus - match context of given homograph to most similar group.\n"
   ]
  },
  {
   "cell_type": "markdown",
   "metadata": {},
   "source": [
    "### This notebook\n",
    "\n",
    "Loads a pre-trained word embedding model, uses DBSCAN clustering to identify several 'definitions' of a set of homographs, and saves those definitions for later use."
   ]
  },
  {
   "cell_type": "code",
   "execution_count": 1,
   "metadata": {
    "collapsed": true
   },
   "outputs": [],
   "source": [
    "import gensim\n",
    "import json\n",
    "import os\n",
    "import re\n",
    "import time\n",
    "from nltk.corpus import stopwords\n",
    "from pprint import pprint\n",
    "\n"
   ]
  },
  {
   "cell_type": "code",
   "execution_count": 2,
   "metadata": {
    "collapsed": true
   },
   "outputs": [],
   "source": [
    "# Declare stopwords, preprocess the data from source file\n",
    "\n",
    "stop = stopwords.words('english')\n",
    "stop += ['?','!',':',';','[',']','[]','“' ]\n",
    "stop += ['.', ',', '(', ')', \"'\", '\"',\"''\",'\"\"',\"``\",'”', '“', '?', '!', '’', 'et', 'al', 'al.']\n",
    "stop = set(stop)\n",
    "\n",
    "class MyPapers(object):\n",
    "    # a memory-friendly way to load a large corpora\n",
    "     def __init__(self, dirname):\n",
    "            self.dirname = dirname\n",
    " \n",
    "     def __iter__(self):\n",
    "        with open(self.dirname) as data_file:    \n",
    "            data = json.load(data_file)\n",
    "        # iterate through all file names in our directory\n",
    "        for paper in data:\n",
    "            try:\n",
    "                line = [word for word in paper['full_text'].lower().split() if word not in stop]\n",
    "                line = [re.sub(r'[?\\.,!:;\\(\\)“\\[\\]]',' ',l) for l in line]\n",
    "                yield line\n",
    "            except:\n",
    "                print(\"Empty document found\")\n",
    "                continue\n",
    "                "
   ]
  },
  {
   "cell_type": "markdown",
   "metadata": {},
   "source": [
    "## Word embeddings\n",
    "\n",
    "Import word2vec word embeddings trained on 2848 scholarly journal articles"
   ]
  },
  {
   "cell_type": "code",
   "execution_count": 3,
   "metadata": {
    "collapsed": true
   },
   "outputs": [],
   "source": [
    "import numpy as np\n",
    "from sklearn.cluster import DBSCAN\n",
    "from sklearn.cluster import AgglomerativeClustering\n",
    "from functools import reduce"
   ]
  },
  {
   "cell_type": "code",
   "execution_count": 4,
   "metadata": {
    "collapsed": true
   },
   "outputs": [],
   "source": [
    "model = gensim.models.word2vec.Word2Vec.load(\"data/journal.txt\")"
   ]
  },
  {
   "cell_type": "code",
   "execution_count": 5,
   "metadata": {},
   "outputs": [
    {
     "data": {
      "text/plain": [
       "2848"
      ]
     },
     "execution_count": 5,
     "metadata": {},
     "output_type": "execute_result"
    }
   ],
   "source": [
    "model.corpus_count"
   ]
  },
  {
   "cell_type": "code",
   "execution_count": 6,
   "metadata": {
    "collapsed": true
   },
   "outputs": [],
   "source": [
    "vectors = model.wv"
   ]
  },
  {
   "cell_type": "code",
   "execution_count": 7,
   "metadata": {},
   "outputs": [
    {
     "data": {
      "text/plain": [
       "200481"
      ]
     },
     "execution_count": 7,
     "metadata": {},
     "output_type": "execute_result"
    }
   ],
   "source": [
    "len(vectors.vocab)"
   ]
  },
  {
   "cell_type": "markdown",
   "metadata": {},
   "source": [
    "** contexts to vectors **"
   ]
  },
  {
   "cell_type": "code",
   "execution_count": 8,
   "metadata": {
    "collapsed": true
   },
   "outputs": [],
   "source": [
    "from collections import Counter, defaultdict\n",
    "# The function takes as arguments a list of tokenized documents and a window size\n",
    "# and returns each word in the document along with its window context as a tuple\n",
    "\n",
    "def generate_word_counts(documents, window_size = 6):\n",
    "    maxlen = window_size*2\n",
    "    counts = Counter()\n",
    "    \n",
    "    for document in documents:\n",
    "        L = len(document)\n",
    "        # Choose the target word\n",
    "        for index, word in enumerate(document):\n",
    "            # Create the window\n",
    "            s = index-window_size\n",
    "            e = index+window_size+1\n",
    "                    \n",
    "            in_words = []\n",
    "            context_words = []\n",
    "            # Create the input/outputs for skipgrams\n",
    "            for i in range(s, e):\n",
    "                if i != index and 0 <= i < L:\n",
    "                    #in_words.append([word])\n",
    "                    context_words.append(document[i])\n",
    "            x = word\n",
    "            y = context_words\n",
    "            counts[x] += 1\n",
    "            for _ in y:\n",
    "                counts[_] += 1\n",
    "\n",
    "    return counts"
   ]
  },
  {
   "cell_type": "code",
   "execution_count": 9,
   "metadata": {
    "collapsed": true
   },
   "outputs": [],
   "source": [
    "#Instantiate iterable on the data\n",
    "\n",
    "#papers is an iterable of scholarly papers, tokenized for prcessing\n",
    "papers = MyPapers('data/train_data.json') "
   ]
  },
  {
   "cell_type": "code",
   "execution_count": 10,
   "metadata": {
    "collapsed": true
   },
   "outputs": [],
   "source": [
    "word_counts = generate_word_counts(papers)"
   ]
  },
  {
   "cell_type": "code",
   "execution_count": 11,
   "metadata": {
    "collapsed": true
   },
   "outputs": [],
   "source": [
    "# Takes list of word tokens as arguments\n",
    "# Returns a list of vectors whose components are the arithmetic mean of the \n",
    "# corresponding component of all of the input vectors\n",
    "\n",
    "def get_vectors(word_list):\n",
    "    vecs = []\n",
    "    for word in word_list:\n",
    "        vecs.append(vectors[word])        \n",
    "    return vecs\n",
    "\n",
    "# Takes list of vectors as arguments\n",
    "# Returns a single vector whose components are the arithmetic mean of the \n",
    "# corresponding component of all of the input vectors\n",
    "\n",
    "def vector_average(vector_list):\n",
    "    A = np.array(vector_list)\n",
    "    dim = A.shape[0]\n",
    "    ones = np.ones(dim)\n",
    "    return ones.dot(A)/dim\n",
    "\n",
    "# Takes list of tokenized documents, target word and window size as arguments\n",
    "# Returns list of vectors where each vector represents the context window \n",
    "# of the target word in the word embedding space\n",
    "\n",
    "def context2vectors(documents,target,window_size = 6):\n",
    "\n",
    "    context_vectors = []\n",
    "\n",
    "    for document in documents:\n",
    "        if target in document:\n",
    "            windows = generate_windows([document],window_size)\n",
    "            for w in windows:\n",
    "                if w[0] == target:\n",
    "                    context_vectors.append(vector_average2(get_vectors(w[1])))\n",
    "                    \n",
    "    return context_vectors\n"
   ]
  },
  {
   "cell_type": "code",
   "execution_count": 12,
   "metadata": {
    "collapsed": true
   },
   "outputs": [],
   "source": [
    "# Takes list of vectors as arguments\n",
    "# Returns a single vector whose components are the arithmetic mean of the \n",
    "# corresponding component of all of the input vectors weighted by Inverse Document Frecuency\n",
    "\n",
    "def vector_average2(words): #, word_counts, vectors):\n",
    "    total = sum(list(word_counts.values()))\n",
    "    words = [x for x in words if x in list(vectors.vocab.keys())]\n",
    "    vector_list = list(map((lambda x: vectors[x]*np.log((1 + total)/(1 + word_counts[x]))),words))\n",
    "    \n",
    "    if len(vector_list) == 0:\n",
    "        return 0\n",
    "    elif len(vector_list) == 1:\n",
    "        vector_sum = vector_list[0]\n",
    "    else:\n",
    "        vector_sum = reduce((lambda x,y: np.add(x,y)),vector_list)\n",
    "        \n",
    "    weighted_average = (1.0/len(words))*vector_sum\n",
    "    \n",
    "    return weighted_average\n",
    "\n",
    "# Takes list of tokenized documents, target word and window size as arguments\n",
    "# Returns list of vectors where each vector represents the context window \n",
    "# of the target word in the word embedding space\n",
    "\n",
    "def context2vectors2(documents,target,window_size = 6):\n",
    "\n",
    "    context_vectors = []\n",
    "\n",
    "    for document in documents:\n",
    "        if target in document:\n",
    "            windows = generate_windows([document],window_size)\n",
    "            for w in windows:\n",
    "                if w[0] == target:\n",
    "                    context_vectors.append(vector_average2(w[1]))\n",
    "                    \n",
    "    return context_vectors"
   ]
  },
  {
   "cell_type": "code",
   "execution_count": 13,
   "metadata": {
    "collapsed": true
   },
   "outputs": [],
   "source": [
    "dictionary = gensim.corpora.dictionary.Dictionary(papers)\n",
    "text = [dictionary.doc2bow(c) for c in papers]"
   ]
  },
  {
   "cell_type": "markdown",
   "metadata": {},
   "source": [
    "** Clustering with DBSAN **\n",
    "\n",
    "Use DBSCAN to determine similar usages of the target homographs. Each of these similar usages will be combined to a representative vector in the embedding space and constitute a \"definition\" of that word."
   ]
  },
  {
   "cell_type": "code",
   "execution_count": 14,
   "metadata": {
    "collapsed": true
   },
   "outputs": [],
   "source": [
    "# The function takes as arguments a list of tokenized documents and a window size\n",
    "# and returns each word in the document along with its window context as a tuple\n",
    "\n",
    "def generate_windows(documents, window_size):\n",
    "    maxlen = window_size*2\n",
    "    \n",
    "    for document in documents:\n",
    "        L = len(document)\n",
    "        # Choose the target word\n",
    "        for index, word in enumerate(document):\n",
    "            # Create the window\n",
    "            s = index-window_size\n",
    "            e = index+window_size+1\n",
    "                    \n",
    "            in_words = []\n",
    "            context_words = []\n",
    "            # Create the input/outputs for skipgrams\n",
    "            for i in range(s, e):\n",
    "                if i != index and 0 <= i < L:\n",
    "                    #in_words.append([word])\n",
    "                    context_words.append(document[i])\n",
    "            x = word\n",
    "            y = context_words\n",
    "\n",
    "            yield(x,y)\n",
    "            \n",
    "\n",
    "#Arguments: The desired cluster number, a list of documents making up the corpus, the target homograph\n",
    "#           a list of labels for the conext sentences indicating the homographs usage, and window size\n",
    "# The function prints the representative context windows for the target word within the desired cluster   \n",
    "\n",
    "def print_cluster_context(cluster_number, documents, target, labels, window_size = 6):\n",
    "    \n",
    "    context_vectors = []\n",
    "\n",
    "    for document in documents:\n",
    "        text = document\n",
    "        if target in text:\n",
    "            #print(target)\n",
    "            windows = generate_windows([text],window_size)\n",
    "            #print windows[:2]\n",
    "            for w in windows:\n",
    "                if w[0] == target:\n",
    "                    context_vectors.append((w[1]))\n",
    "    for i, label in enumerate(labels):\n",
    "        if label == cluster_number:\n",
    "            print(context_vectors[i])\n",
    "            \n"
   ]
  },
  {
   "cell_type": "code",
   "execution_count": 15,
   "metadata": {
    "collapsed": true
   },
   "outputs": [],
   "source": [
    "#Arguments: The desired cluster number, a list of documents making up the corpus, the target homograph\n",
    "#           a list of labels for the conext sentences indicating the homographs usage, and window size\n",
    "# The function prints the representative context windows for the target word within the desired cluster   \n",
    "\n",
    "def cluster_context(documents, target, labels, window_size = 6):\n",
    "    \n",
    "    context_windows = []\n",
    "\n",
    "    for document in documents:\n",
    "        text = document\n",
    "        if target in text:\n",
    "            #print(target)\n",
    "            windows = generate_windows([text],window_size)\n",
    "            #print windows[:2]\n",
    "            for w in windows:\n",
    "                if w[0] == target:\n",
    "                    context_windows.append((w[1]))\n",
    "                    \n",
    "    cluster_windows = defaultdict(list)                \n",
    "    for i, label in enumerate(labels):\n",
    "        cluster_windows[label].append(context_windows[i])\n",
    "    \n",
    "    return cluster_windows\n"
   ]
  },
  {
   "cell_type": "code",
   "execution_count": 16,
   "metadata": {
    "collapsed": true
   },
   "outputs": [],
   "source": [
    "# Arguments: List of vectors, each representing a context window and a list of labels \n",
    "#            corresponding to the context vectors\n",
    "# Returns:   A dictionary where keys are the identified labels from clustering and the value is a single \n",
    "#            representing the cluster\n",
    "\n",
    "def identify_definition(context_vectors, labels):\n",
    "    \n",
    "    cluster_numbers = set(labels)\n",
    "    definitions = dict()\n",
    "    cluster_vectors = defaultdict(list)\n",
    "    \n",
    "    for i, label in enumerate(labels):\n",
    "        cluster_vectors[label].append(context_vectors[i])\n",
    "    \n",
    "    for key in cluster_vectors.keys():\n",
    "        if key < 0:\n",
    "            continue\n",
    "        else:\n",
    "            v = vector_average(cluster_vectors[key])\n",
    "            definitions[key] = v/np.linalg.norm(v)\n",
    "                    \n",
    "    return definitions\n"
   ]
  },
  {
   "cell_type": "code",
   "execution_count": 17,
   "metadata": {
    "collapsed": true
   },
   "outputs": [],
   "source": [
    "target = u'extract'\n",
    "context_vectors = context2vectors2(papers, target)"
   ]
  },
  {
   "cell_type": "code",
   "execution_count": 18,
   "metadata": {},
   "outputs": [
    {
     "data": {
      "text/plain": [
       "DBSCAN(algorithm='brute', eps=0.07, leaf_size=30, metric='cosine',\n",
       "    min_samples=5, n_jobs=1, p=None)"
      ]
     },
     "execution_count": 18,
     "metadata": {},
     "output_type": "execute_result"
    }
   ],
   "source": [
    "dbscan = DBSCAN(eps = .07, metric = 'cosine', algorithm = 'brute', min_samples = 5)\n",
    "dbscan.fit(context_vectors)"
   ]
  },
  {
   "cell_type": "code",
   "execution_count": 19,
   "metadata": {},
   "outputs": [
    {
     "name": "stdout",
     "output_type": "stream",
     "text": [
      "4\n"
     ]
    }
   ],
   "source": [
    "labels = dbscan.labels_\n",
    "n_clusters = len(set(labels)) # - (1 if -1 in labels else 0)\n",
    "print(n_clusters)"
   ]
  },
  {
   "cell_type": "markdown",
   "metadata": {},
   "source": [
    "# Recording Definitions\n",
    "\n",
    "Use the DBSCAN clusters to determine the various definitions of a word, then create a dictionary for the word"
   ]
  },
  {
   "cell_type": "code",
   "execution_count": 22,
   "metadata": {
    "collapsed": true
   },
   "outputs": [],
   "source": [
    "target_definitions = identify_definition(context_vectors, labels)"
   ]
  },
  {
   "cell_type": "code",
   "execution_count": 23,
   "metadata": {
    "collapsed": true
   },
   "outputs": [],
   "source": [
    "contexts = cluster_context(papers, target, labels)"
   ]
  },
  {
   "cell_type": "code",
   "execution_count": 24,
   "metadata": {
    "collapsed": true
   },
   "outputs": [],
   "source": [
    "def define_window(window, dictionary):\n",
    "    cosine_dists = []\n",
    "    wv = vector_average2(window)\n",
    "    window_vector = wv/np.linalg.norm(wv)\n",
    "    for k,v in dictionary.items():\n",
    "        cosine_dists.append((1 - np.dot(window_vector, v),k))\n",
    "    cosine_dists.sort()\n",
    "    \n",
    "    return cosine_dists[0][1]\n",
    "    "
   ]
  },
  {
   "cell_type": "code",
   "execution_count": 34,
   "metadata": {
    "collapsed": true
   },
   "outputs": [],
   "source": [
    "def extract_dictionary(papers, homographs):\n",
    "    dictionary = dict()\n",
    "    for word in homographs:\n",
    "        print(\"Calculating context vectors for {}\".format(word))\n",
    "        context_vectors = context2vectors2(papers, word)\n",
    "        print(\"Clustering...\")\n",
    "        dbscan = DBSCAN(eps = .07, metric = 'cosine', algorithm = 'brute', min_samples = 5)\n",
    "        dbscan.fit(context_vectors)\n",
    "        labels = dbscan.labels_\n",
    "        print(\"found {} distinct definitions\".format(len(set(labels))))\n",
    "        print(\"Building definition for {}\".format(word))\n",
    "        dictionary[word] = identify_definition(context_vectors, labels)\n",
    "        \n",
    "    print(\"Dictionary complete\")    \n",
    "    return dictionary"
   ]
  },
  {
   "cell_type": "code",
   "execution_count": 33,
   "metadata": {},
   "outputs": [
    {
     "name": "stdout",
     "output_type": "stream",
     "text": [
      "Calculating context vectors for attribute\n",
      "Clustering...\n",
      "Calculating context vectors for bank\n",
      "Clustering...\n",
      "Calculating context vectors for charge\n",
      "Clustering...\n",
      "Calculating context vectors for feet\n",
      "Clustering...\n",
      "Calculating context vectors for second\n",
      "Clustering...\n",
      "Calculating context vectors for train\n",
      "Clustering...\n"
     ]
    }
   ],
   "source": [
    "#homographs = ['attribute', 'bank', 'charge', 'feet', 'second', 'train']\n",
    "\n",
    "dictionary = extract_dictionary(papers, homographs)"
   ]
  },
  {
   "cell_type": "code",
   "execution_count": 42,
   "metadata": {},
   "outputs": [
    {
     "data": {
      "text/plain": [
       "dict_keys([0, 1])"
      ]
     },
     "execution_count": 42,
     "metadata": {},
     "output_type": "execute_result"
    }
   ],
   "source": [
    "dictionary['bank'].keys()"
   ]
  },
  {
   "cell_type": "markdown",
   "metadata": {},
   "source": [
    "## Testing"
   ]
  },
  {
   "cell_type": "code",
   "execution_count": 56,
   "metadata": {},
   "outputs": [
    {
     "name": "stdout",
     "output_type": "stream",
     "text": [
      "Cluster -1, defined as 0 \n",
      " ['obtained', 'means', 'local', 'field', 'potential', 'spike', 'analysis ', 'wide', 'range', 'topological', 'network', 'measures'] \n",
      "\n",
      "Cluster -1, defined as 0 \n",
      " ['putting', 'probes', 'local', 'field', 'potential', 'spike', 'analysis ', 'aim', 'reconstruct', 'functional', 'time-varying', 'brain'] \n",
      "\n",
      "Cluster -1, defined as 2 \n",
      " ['improving', 'access', 'psychological', 'therapies', ' iapt ', 'developed', 'low', 'intensity', 'psychological', 'wellbeing', 'practitioners', ' pwps '] \n",
      "\n",
      "Cluster -1, defined as 1 \n",
      " [' imo ', 'requires', 'using', 'marine', 'radar', 'simulator', 'seafarers ', 'marine', 'radar', 'simulator', 'acceptable', 'approach'] \n",
      "\n",
      "Cluster -1, defined as 0 \n",
      " ['endpoint', 'detection', 'detect', 'learned', ' in', 'examples', 'high', 'voltage', 'sockets  ', 'hypothesis', 'cannot', 'reproduce'] \n",
      "\n",
      "Cluster -1, defined as 0 \n",
      " ['  ', 'employs', 'use', 'virtual', 'reality', 'goggles', 'construction', 'site', 'workers', 'forming', 'ability', 'identify'] \n",
      "\n",
      "Cluster -1, defined as 0 \n",
      " ['construction', 'plant', 'equipment', 'represented', 'virtual', 'environment', 'students', 'increase', 'learning', 'experience ', 'showed', 'improvement'] \n",
      "\n",
      "Cluster -1, defined as 1 \n",
      " ['drawings', 'used', 'create', '3d', 'model', 'simulation', 'construction', 'workers', 'hazard', 'recognition ', 'results', 'indicated'] \n",
      "\n",
      "Cluster -1, defined as 0 \n",
      " ['  ', 'examined', 'use', 'multi-user', 'serious', 'game', 'workers', 'risk', 'identification ', 'game', 'provided', 'multiple'] \n",
      "\n",
      "Cluster -1, defined as 0 \n",
      " ['using', 'immersive', 'virtual', 'reality', 'technology', 'used', 'participants', 'risk', 'identification', 'prevention ', 'results', 'indicated'] \n",
      "\n",
      "Cluster -1, defined as 2 \n",
      " ['  ', 'argue', 'traditional', 'teaching', 'methods', 'used', 'educate', 'workers', 'main', 'source', 'education', 'engineering'] \n",
      "\n",
      "Cluster -1, defined as 0 \n",
      " ['later', 'improved', 'achieve', 'f1', 'score', '0 77', '0 54', 'test', 'data', 'based', 'approach paedophilia ', 'whilst'] \n",
      "\n",
      "Cluster -1, defined as 2 \n",
      " ['applications ', 'intel', 'supports', 'programs', 'initiatives', 'designed', 'classroom', 'teachers', 'integrate', 'technology', 'lessons', 'promote'] \n",
      "\n",
      "Cluster -1, defined as 0 \n",
      " ['embedded', 'feature', 'space', 'favor', 'task', 'hand ', 'proposed', 'method', 'using', 'labeled', 'unlabeled', 'data'] \n",
      "\n",
      "Cluster -1, defined as 0 \n",
      " ['pass', 'small', 'sample', 'expert', 'hand-labeling ', 'then ', 'semi-supervised', 'learner', 'labeled', 'unlabeled', 'data', 'turn'] \n",
      "\n",
      "Cluster -1, defined as 0 \n",
      " ['measuring', 'glucose', 'levels ', 'children', 'help', 'jerry', 'star', 'games', 'sequence', 'animated', 'storybooks', 'play'] \n",
      "\n",
      "Cluster -1, defined as 0 \n",
      " ['composition', 'measurement ', 'since', 'endurance', 'athletes', 'often', 'several', 'times', 'per', 'day ', 'might', 'difficult'] \n",
      "\n",
      "Cluster -1, defined as 2 \n",
      " [' zeid', 'al  ', '  another', 'challenge', 'stem', 'education', 'teachers', 'teach', 'integrated', 'stem', 'schools ', 'schools '] \n",
      "\n",
      "Cluster -1, defined as 0 \n",
      " ['promising', 'results ', 'however', 'main', 'drawback', 'necessity', 'algorithm', 'first', 'using', 'training', 'set ', 'depending'] \n",
      "\n",
      "Cluster -1, defined as 1 \n",
      " ['recorded', 'wind', 'farm', 'scada', 'output', 'utilized', 'anfis ', 'second', 'stage ', 'anfis', 'developed', 'map'] \n",
      "\n",
      "Cluster -1, defined as 1 \n",
      " ['farm', 'scada', 'used ', 'respectively ', 'input', 'output', 'anfis', 'stage ', 'then ', 'forecasted', 'wind', 'speed'] \n",
      "\n",
      "Cluster -1, defined as 1 \n",
      " ['  ', 'results', 'in different', 'types', 'kernels', 'used', 'svms ', 'commonly', 'used', 'kernel', 'functions', 'power'] \n",
      "\n",
      "Cluster -1, defined as 2 \n",
      " ['significantly', 'reduced', 'changes', 'border', 'procedures', 'set', '9/11 ', 'findings', 'add', 'literature', 'importance', 'border'] \n",
      "\n",
      "Cluster -1, defined as 2 \n",
      " ['parties', ' supplier', 'manufacture ', 'repair', 'maintain', 'machineries', 'worker ', 'also ', 'much', 'idle', 'time', 'means'] \n",
      "\n",
      "Cluster -1, defined as 2 \n",
      " ['competition ', 'instance ', 'roro', 'services', 'also', 'compete', 'links', ' mostly', 'relevant', 'channel', 'tunnel ', 'roro'] \n",
      "\n",
      "Cluster -1, defined as 2 \n",
      " ['paradox', 'responsible', 'future', 'absence', 'positions', 'futile', 'anyone', ' streeck ', '  ', 'shall', 'return', 'conundrum'] \n",
      "\n",
      "Cluster -1, defined as 0 \n",
      " ['yelp’s', 'filtered', 'reviews', 'proxy', 'review', 'fraud', 'neural', 'network', 'predicting', 'social', 'activeness ', 'social'] \n",
      "\n",
      "Cluster -1, defined as 1 \n",
      " ['identify', 'fraudulent', 'users', 'platform ', 'case', 'yelp ', 'supervised', 'model', 'using', 'neural', 'network', 'backpropagation'] \n",
      "\n",
      "Cluster -1, defined as 0 \n",
      " ['extend', 'user', 'behavioral', 'feature', 'set ', 'however ', 'model', 'social', 'interaction', 'features ', 'results', 'thus'] \n",
      "\n",
      "Cluster -1, defined as 0 \n",
      " ['examine', 'measurement', 'properties', 'instrument ', 'found', 'easy', 'observers', 'use', 'fcom', 'easy', 'use', 'classroom '] \n",
      "\n",
      "Cluster -1, defined as 0 \n",
      " ['patterns', 'massive', 'amounts', 'data ', 'critical', 'able', 'large', 'models', 'fulfill', 'needs', 'recent', 'advances'] \n",
      "\n",
      "Cluster -1, defined as 1 \n",
      " ['optimization', 'method', 'effectively', 'used', 'parameter', 'estimation', 'various', 'machine', 'learning', 'models ', 'number', 'parameters'] \n",
      "\n",
      "Cluster -1, defined as 1 \n",
      " ['machine', 'learning', 'algorithms', 'use', 'optimization', 'methods', 'model', 'parameters', '   ', 'algorithms ', 'training', 'phase'] \n",
      "\n",
      "Cluster -1, defined as 1 \n",
      " ['function ', 'created', 'based', 'parameters ', 'needs', 'optimized', 'model ', 'optimization', 'method', 'finds', 'parameter', 'values'] \n",
      "\n",
      "Cluster -1, defined as 0 \n",
      " ['science ', 'optimization', 'methods', 'proving', 'vital', 'order', 'models', 'able', 'extract', 'information', 'patterns', 'huge'] \n",
      "\n",
      "Cluster -1, defined as 0 \n",
      " ['critical', 'able', 'scale', 'machine', 'learning', 'techniques', 'large-scale', 'models', '   ', 'addition ', 'recent', 'breakthroughs'] \n",
      "\n",
      "Cluster -1, defined as 0 \n",
      " ['learning', 'rate', 'convergence', 'criteria ', 'standard', 'approach', 'model', 'different', 'parameters', 'test', 'validation', 'dataset '] \n",
      "\n",
      "Cluster -1, defined as 1 \n",
      " ['uses', 'kernel', 'drug–target', 'pairs', 'known', 'labels', 'svm-classifier ', 'approaches', 'presented', ' – ', 'represent', 'drug–target'] \n",
      "\n",
      "Cluster -1, defined as 0 \n",
      " ['general', 'recommendation', 'efficiently', 'defining', 'ad', 'would', 'powerful', 'classifier', 'use', 'built-in', 'class', 'probability'] \n",
      "\n",
      "Cluster -1, defined as 1 \n",
      " ['linear', 'regression', 'detect', 'host', 'overloaded', 'underloaded ', 'model', 'based', 'past', 'cpu', 'utilization', 'history'] \n",
      "\n",
      "Cluster -1, defined as 2 \n",
      " ['started', 'change', '2005 ', 'government', 'launched', 'program', 'professors', 'identifying', 'gifted', 'students ', '2010 ', 'example '] \n",
      "\n",
      "Cluster -1, defined as 0 \n",
      " ['recognition ', 'authors', 'divide', 'input', 'image', 'patches', 'convolutional', 'neural', 'network', ' cnn ', 'patch', 'fashion'] \n",
      "\n",
      "Cluster -1, defined as 1 \n",
      " ['predictions', 'create', 'image', 'level', 'histogram', 'used', 'logistic', 'regression', 'classifier ', 'es', 'method we', 'presented'] \n",
      "\n",
      "Cluster -1, defined as 2 \n",
      " ['afield', 'los', 'angeles', 'calcutta ', 'united', 'goal', 'conscientiously', 'better', 'serve', 'dharma ', 'receiving', 'full'] \n",
      "\n",
      "Cluster -1, defined as 2 \n",
      " ['university', 'vocational', 'programs', 'require', 'communication', 'skills ', 'students', 'communication', 'skills ', 'doctor ', 'psychologist', 'veterinarian'] \n",
      "\n",
      "Cluster -1, defined as 2 \n",
      " ['transfer', ' hannon ', '  ', 'simulate', 'experiential', 'situations', 'medical', 'students', ' amer ', 'mur ', 'amer ', '&'] \n",
      "\n",
      "Cluster -1, defined as 0 \n",
      " ['acquire', 'skills', 'unnatural', 'situations ', 'ability', 'transfer', 'skills', 'situations', 'difficult ', 'alternatives', 'discussed', 'concept'] \n",
      "\n",
      "Cluster -1, defined as 1 \n",
      " ['trains', '  ', 'exploiting', 'superconductivity', ' aero-train”', 'part', 'part', 'aircraft', '   traffic', 'transportation', 'growing', 'problems'] \n",
      "\n",
      "Cluster -1, defined as 1 \n",
      " ['innovative', 'design', 'future', 'transport', 'aero-train', 'partly', 'partly', 'aircraft ', 'vehicle', 'designed', 'wings', 'flies'] \n",
      "\n",
      "Cluster -1, defined as 2 \n",
      " ['pool ', 'one', 'freezing', 'cold', 'salt', 'water', 'fishermen ', 'and ', 'course ', 'forum', 'athletes’', 'tournaments '] \n",
      "\n",
      "Cluster -1, defined as 0 \n",
      " ['demonstrated', 'significantly', 'higher', 'percentfast ', 'since', 'g3', 'hec', 'all ', 'influence', 'repetition', 'cannot', 'neglected '] \n",
      "\n",
      "Cluster -1, defined as 2 \n",
      " ['covering', 'evolution', 'high', 'school ', 'states', 'begin', 'teachers', 'proper', 'implementation', 'ngss ', 'students', 'younger'] \n",
      "\n",
      "Cluster -1, defined as 2 \n",
      " ['fact', 'latin-american', 'countries', 'present', 'ideal', 'environments', 'young', 'scientists ', 'countries', 'lack', 'local', 'scientific'] \n",
      "\n",
      "Cluster -1, defined as 2 \n",
      " ['change ', 'result ', 'new', 'educational', 'strategies', 'required', 'future', 'generations', 'scientists', 'well', 'increase', 'public'] \n",
      "\n",
      "Cluster -1, defined as 0 \n",
      " ['methods', 'usually', 'take', 'number', 'labeled', 'samples', 'classifiers ', 'classification', 'accuracy', 'depends', 'selected', 'training'] \n",
      "\n",
      "Cluster -1, defined as 1 \n",
      " ['effectively', 'used', 'sec ', 'however ', 'still', 'time-costing', 'deep', 'network', 'model', 'dl', 'algorithms', 'large-scale'] \n",
      "\n"
     ]
    },
    {
     "name": "stdout",
     "output_type": "stream",
     "text": [
      "Cluster -1, defined as 0 \n",
      " ['similarity', 'functions', 'concatenated', 'feature', 'vector ', 'used', 'classifier', 'determining', 'whether', 'corresponding', 'two', 'tracks'] \n",
      "\n",
      "Cluster -1, defined as 0 \n",
      " ['first ', 'similarities', 'based', 'different', 'descriptors', 'adopted', 'classifier ', 'then ', 'decision', 'made', 'classifier', 'integrated'] \n",
      "\n",
      "Cluster -1, defined as 0 \n",
      " ['collect', 'large', 'number', 'ecg', 'heartbeats', 'order', 'reliable', 'biometric', 'system ', 'hence ', 'issue', 'might'] \n",
      "\n",
      "Cluster -1, defined as 0 \n",
      " ['size', 'environment', 'allocating', 'small', 'number', 'observations', 'model ', 'chose', 'arbitrary', 'number', '20', 'observations'] \n",
      "\n",
      "Cluster -1, defined as 1 \n",
      " ['embedded', 'systems ', 'multiple', 'objects', 'environment', 'used', 'evolved', 'neural', 'network', 'time '] \n",
      "\n",
      "Cluster -1, defined as 0 \n",
      " ['sequence', 'file', 'parsing', 'routine ', 'strand', 'able', 'classify', 'malware', 'data', 'changes while', 'produce', 'winning'] \n",
      "\n",
      "Cluster -1, defined as 1 \n",
      " ['image', 'inpainting', 'includes', 'proposition', 'distributed', 'algorithm', 'rbm', ' restricted', 'boltzmann', 'machine ', 'model', 'based'] \n",
      "\n",
      "Cluster -1, defined as 1 \n",
      " ['use', 'publicly', 'available ', 'noisy', 'data', 'sources', 'generic', 'models', 'vastly', 'improve', 'upon', 'state-of-the-art'] \n",
      "\n",
      "Cluster -1, defined as 1 \n",
      " ['monocular', 'camera', 'images', 'independently', 'camera', 'calibration', 'cnn', 'predict', 'probability', 'task-space', 'motion', 'gripper'] \n",
      "\n",
      "Cluster -1, defined as 2 \n",
      " ['sources', 'many', 'developed', 'countries', 'airline', 'transportation ', 'trips ', 'commuting ', 'resource', 'poor', 'countries', 'information'] \n",
      "\n",
      "Cluster -1, defined as 0 \n",
      " ['shown', 'bci', 'potential', 'alternative', 'treatment', 'option', 'adhd', 'subjects', ' –  ', 'neurofeedback', 'adhd', 'treatment'] \n",
      "\n",
      "Cluster -1, defined as 0 \n",
      " ['relative', 'frequency', 'training', 'set ', 'creating', 'balanced', 'set', 'undersampling', 'majority', 'class', 'retaining', 'original'] \n",
      "\n",
      "Cluster -1, defined as 0 \n",
      " ['pre-diagnosis', 'model', 'considerably', 'fewer', 'data', 'points', 'on ', 'result ', 'likely', 'pre-diagnosis', 'accuracy', 'scores'] \n",
      "\n",
      "Cluster -1, defined as 1 \n",
      " ['  ', 'truccolo', '   ', 'modir', '   ', 'spike', 'analysis', 'active', 'neurobiological', 'research', 'area', 'calling'] \n",
      "\n",
      "Cluster -1, defined as 0 \n",
      " ['machine', 'learning ', 'adjacency', 'matrix', 'given', 'goal', 'model', 'tuning', 'matrix', 'latent', 'features', 'way'] \n",
      "\n",
      "Cluster -1, defined as 1 \n",
      " ['sekimoto', '   ', 'model', 'used', 'finding', 'optimal', 'schedule', 'based', 'train', 'demand ', 'proposed', 'orlin '] \n",
      "\n",
      "Cluster -1, defined as 1 \n",
      " ['used', 'finding', 'optimal', 'train', 'schedule', 'based', 'demand ', 'proposed', 'orlin ', 'serafini ', 'ukovich', ' –  '] \n",
      "\n",
      "Cluster -1, defined as 1 \n",
      " ['  ', 'gives', 'methodology', 'extract', 'relevant', 'data', 'station', 'making', 'relationship', 'tables', 'interlocking', 'tables '] \n",
      "\n",
      "Cluster -1, defined as 0 \n",
      " ['safety', 'control', 'system', 'supervises', 'correct', 'movement', 'yard ', 'since', 'real', 'time', 'safety', 'critical'] \n",
      "\n",
      "Cluster -1, defined as 1 \n",
      " ['triangular', 'maps ', 'intervals', 'referred', 'build', 'terminology each', 'headed', 'interval', 'call', 'engine ', 'good', 'estimates'] \n",
      "\n",
      "Cluster -1, defined as 0 \n",
      " [' opposing', 'brexit  ', ' uncommitted  ', 'labeled', 'tweets', 'used', 'classifier', 'automatically', 'labeled', 'remaining', 'tweets ', 'tweet'] \n",
      "\n",
      "Cluster -1, defined as 0 \n",
      " ['consistency', 'tag', 'application', 'removes', 'requirement', 'retailers', 'resource', 'staff', 'tag', 'items', 'store', ' beck'] \n",
      "\n",
      "Cluster -1, defined as 0 \n",
      " ['represent', 'best', 'way', 'teach', 'properly', 'pocus', 'new', 'operators ', 'here ', 'report', 'revision', 'common'] \n",
      "\n",
      "Cluster -1, defined as 0 \n",
      " ['doctors', 'trained', 'ultrasound', 'all ', 'actually ', 'decided', 'nurse', 'ultrasound', 'low', 'doctor/population', 'ratio', 'sierra'] \n",
      "\n",
      "Cluster -1, defined as 0 \n",
      " ['light', 'railway ', 'connections ', 'bus', 'station ', 'high-speed', 'station also ', 'one', 'aims', 'also', 'create', 'mixed-use'] \n",
      "\n",
      "Cluster -1, defined as 0 \n",
      " ['embodied', 'spatial', 'training', 'may', 'provide', 'means', 'fundamental', 'cognitive', 'skill ', 'spatial', 'thinking ', 'turn'] \n",
      "\n",
      "Cluster -1, defined as 0 \n",
      " ['whether', 'authentic ', 'remains', 'determined', 'whether', 'possible', 'people', 'make', 'use', 'physically', 'implausible', 'inconsistencies '] \n",
      "\n",
      "Cluster -1, defined as 1 \n",
      " ['extending', '70 263', 'm these', 'training', 'data', 'used', 'obia', 'software', ' fa  ', 'identify', 'extract', 'peatland'] \n",
      "\n",
      "Cluster -1, defined as 2 \n",
      " ['courses ', 'fosters', 'ability', 'implement', 'assessment', 'types', 'learners reviewing', 'challenges', 'probable', 'solutions', 'implementing', 'self-assessment'] \n",
      "\n",
      "Cluster -1, defined as 2 \n",
      " ['definitions', 'education', 'sustainability', ' efs  ', 'yet', 'common', 'thought', 'appears', 'notion', 'enabling', 'transformative', 'change'] \n",
      "\n",
      "Cluster -1, defined as 2 \n",
      " ['groups ', 'training', 'means', 'experience ', 'members', 'confidence', 'others', 'likely', 'others', 'come', 'advice', ' davis'] \n",
      "\n",
      "Number correct: 18\n",
      "Number wrong: 0\n"
     ]
    }
   ],
   "source": [
    "# TEST WINDOW #\n",
    "\n",
    "target = u'train'\n",
    "context_vectors = context2vectors2(papers, target)\n",
    "#target_definitions = identify_definition(context_vectors, labels)\n",
    "target_definitions = dictionary[target]\n",
    "dbscan = DBSCAN(eps = .07, metric = 'cosine', algorithm = 'brute', min_samples = 5)\n",
    "dbscan.fit(context_vectors)\n",
    "labels = dbscan.labels_\n",
    "\n",
    "contexts = cluster_context(papers, target, labels)\n",
    "correct = 0\n",
    "wrong = 0\n",
    "for c in contexts:\n",
    "    for window in contexts[c]:\n",
    "        d = define_window(window, target_definitions)\n",
    "        if c == d:\n",
    "            correct += 1\n",
    "        else:\n",
    "            print(\"Cluster {}, defined as {} \\n\".format(c, d), window, '\\n')\n",
    "            if c != -1:\n",
    "                wrong += 1\n",
    "                \n",
    "print(\"Number correct: {}\\nNumber wrong: {}\".format(correct, wrong))"
   ]
  },
  {
   "cell_type": "code",
   "execution_count": 61,
   "metadata": {},
   "outputs": [
    {
     "name": "stdout",
     "output_type": "stream",
     "text": [
      "0 ['obtained', 'means', 'local', 'field', 'potential', 'spike', 'analysis ', 'wide', 'range', 'topological', 'network', 'measures'] \n",
      "\n",
      "0 ['putting', 'probes', 'local', 'field', 'potential', 'spike', 'analysis ', 'aim', 'reconstruct', 'functional', 'time-varying', 'brain'] \n",
      "\n",
      "2 ['improving', 'access', 'psychological', 'therapies', ' iapt ', 'developed', 'low', 'intensity', 'psychological', 'wellbeing', 'practitioners', ' pwps '] \n",
      "\n",
      "1 [' imo ', 'requires', 'using', 'marine', 'radar', 'simulator', 'seafarers ', 'marine', 'radar', 'simulator', 'acceptable', 'approach'] \n",
      "\n",
      "0 ['endpoint', 'detection', 'detect', 'learned', ' in', 'examples', 'high', 'voltage', 'sockets  ', 'hypothesis', 'cannot', 'reproduce'] \n",
      "\n",
      "0 ['  ', 'employs', 'use', 'virtual', 'reality', 'goggles', 'construction', 'site', 'workers', 'forming', 'ability', 'identify'] \n",
      "\n",
      "0 ['construction', 'plant', 'equipment', 'represented', 'virtual', 'environment', 'students', 'increase', 'learning', 'experience ', 'showed', 'improvement'] \n",
      "\n",
      "1 ['drawings', 'used', 'create', '3d', 'model', 'simulation', 'construction', 'workers', 'hazard', 'recognition ', 'results', 'indicated'] \n",
      "\n",
      "0 ['  ', 'examined', 'use', 'multi-user', 'serious', 'game', 'workers', 'risk', 'identification ', 'game', 'provided', 'multiple'] \n",
      "\n",
      "0 ['using', 'immersive', 'virtual', 'reality', 'technology', 'used', 'participants', 'risk', 'identification', 'prevention ', 'results', 'indicated'] \n",
      "\n",
      "2 ['  ', 'argue', 'traditional', 'teaching', 'methods', 'used', 'educate', 'workers', 'main', 'source', 'education', 'engineering'] \n",
      "\n",
      "0 ['later', 'improved', 'achieve', 'f1', 'score', '0 77', '0 54', 'test', 'data', 'based', 'approach paedophilia ', 'whilst'] \n",
      "\n",
      "2 ['applications ', 'intel', 'supports', 'programs', 'initiatives', 'designed', 'classroom', 'teachers', 'integrate', 'technology', 'lessons', 'promote'] \n",
      "\n",
      "0 ['embedded', 'feature', 'space', 'favor', 'task', 'hand ', 'proposed', 'method', 'using', 'labeled', 'unlabeled', 'data'] \n",
      "\n",
      "0 ['pass', 'small', 'sample', 'expert', 'hand-labeling ', 'then ', 'semi-supervised', 'learner', 'labeled', 'unlabeled', 'data', 'turn'] \n",
      "\n",
      "0 ['measuring', 'glucose', 'levels ', 'children', 'help', 'jerry', 'star', 'games', 'sequence', 'animated', 'storybooks', 'play'] \n",
      "\n",
      "0 ['composition', 'measurement ', 'since', 'endurance', 'athletes', 'often', 'several', 'times', 'per', 'day ', 'might', 'difficult'] \n",
      "\n",
      "2 [' zeid', 'al  ', '  another', 'challenge', 'stem', 'education', 'teachers', 'teach', 'integrated', 'stem', 'schools ', 'schools '] \n",
      "\n",
      "0 ['promising', 'results ', 'however', 'main', 'drawback', 'necessity', 'algorithm', 'first', 'using', 'training', 'set ', 'depending'] \n",
      "\n",
      "1 ['recorded', 'wind', 'farm', 'scada', 'output', 'utilized', 'anfis ', 'second', 'stage ', 'anfis', 'developed', 'map'] \n",
      "\n",
      "1 ['farm', 'scada', 'used ', 'respectively ', 'input', 'output', 'anfis', 'stage ', 'then ', 'forecasted', 'wind', 'speed'] \n",
      "\n",
      "1 ['  ', 'results', 'in different', 'types', 'kernels', 'used', 'svms ', 'commonly', 'used', 'kernel', 'functions', 'power'] \n",
      "\n",
      "2 ['significantly', 'reduced', 'changes', 'border', 'procedures', 'set', '9/11 ', 'findings', 'add', 'literature', 'importance', 'border'] \n",
      "\n",
      "2 ['parties', ' supplier', 'manufacture ', 'repair', 'maintain', 'machineries', 'worker ', 'also ', 'much', 'idle', 'time', 'means'] \n",
      "\n",
      "2 ['competition ', 'instance ', 'roro', 'services', 'also', 'compete', 'links', ' mostly', 'relevant', 'channel', 'tunnel ', 'roro'] \n",
      "\n",
      "2 ['paradox', 'responsible', 'future', 'absence', 'positions', 'futile', 'anyone', ' streeck ', '  ', 'shall', 'return', 'conundrum'] \n",
      "\n",
      "0 ['yelp’s', 'filtered', 'reviews', 'proxy', 'review', 'fraud', 'neural', 'network', 'predicting', 'social', 'activeness ', 'social'] \n",
      "\n",
      "1 ['identify', 'fraudulent', 'users', 'platform ', 'case', 'yelp ', 'supervised', 'model', 'using', 'neural', 'network', 'backpropagation'] \n",
      "\n",
      "0 ['extend', 'user', 'behavioral', 'feature', 'set ', 'however ', 'model', 'social', 'interaction', 'features ', 'results', 'thus'] \n",
      "\n",
      "0 ['examine', 'measurement', 'properties', 'instrument ', 'found', 'easy', 'observers', 'use', 'fcom', 'easy', 'use', 'classroom '] \n",
      "\n",
      "0 ['patterns', 'massive', 'amounts', 'data ', 'critical', 'able', 'large', 'models', 'fulfill', 'needs', 'recent', 'advances'] \n",
      "\n",
      "1 ['optimization', 'method', 'effectively', 'used', 'parameter', 'estimation', 'various', 'machine', 'learning', 'models ', 'number', 'parameters'] \n",
      "\n",
      "1 ['machine', 'learning', 'algorithms', 'use', 'optimization', 'methods', 'model', 'parameters', '   ', 'algorithms ', 'training', 'phase'] \n",
      "\n",
      "1 ['function ', 'created', 'based', 'parameters ', 'needs', 'optimized', 'model ', 'optimization', 'method', 'finds', 'parameter', 'values'] \n",
      "\n",
      "0 ['science ', 'optimization', 'methods', 'proving', 'vital', 'order', 'models', 'able', 'extract', 'information', 'patterns', 'huge'] \n",
      "\n",
      "0 ['critical', 'able', 'scale', 'machine', 'learning', 'techniques', 'large-scale', 'models', '   ', 'addition ', 'recent', 'breakthroughs'] \n",
      "\n",
      "0 ['learning', 'rate', 'convergence', 'criteria ', 'standard', 'approach', 'model', 'different', 'parameters', 'test', 'validation', 'dataset '] \n",
      "\n",
      "1 ['uses', 'kernel', 'drug–target', 'pairs', 'known', 'labels', 'svm-classifier ', 'approaches', 'presented', ' – ', 'represent', 'drug–target'] \n",
      "\n",
      "0 ['general', 'recommendation', 'efficiently', 'defining', 'ad', 'would', 'powerful', 'classifier', 'use', 'built-in', 'class', 'probability'] \n",
      "\n",
      "1 ['linear', 'regression', 'detect', 'host', 'overloaded', 'underloaded ', 'model', 'based', 'past', 'cpu', 'utilization', 'history'] \n",
      "\n",
      "2 ['started', 'change', '2005 ', 'government', 'launched', 'program', 'professors', 'identifying', 'gifted', 'students ', '2010 ', 'example '] \n",
      "\n",
      "0 ['recognition ', 'authors', 'divide', 'input', 'image', 'patches', 'convolutional', 'neural', 'network', ' cnn ', 'patch', 'fashion'] \n",
      "\n",
      "1 ['predictions', 'create', 'image', 'level', 'histogram', 'used', 'logistic', 'regression', 'classifier ', 'es', 'method we', 'presented'] \n",
      "\n",
      "2 ['afield', 'los', 'angeles', 'calcutta ', 'united', 'goal', 'conscientiously', 'better', 'serve', 'dharma ', 'receiving', 'full'] \n",
      "\n",
      "2 ['university', 'vocational', 'programs', 'require', 'communication', 'skills ', 'students', 'communication', 'skills ', 'doctor ', 'psychologist', 'veterinarian'] \n",
      "\n",
      "2 ['transfer', ' hannon ', '  ', 'simulate', 'experiential', 'situations', 'medical', 'students', ' amer ', 'mur ', 'amer ', '&'] \n",
      "\n",
      "0 ['acquire', 'skills', 'unnatural', 'situations ', 'ability', 'transfer', 'skills', 'situations', 'difficult ', 'alternatives', 'discussed', 'concept'] \n",
      "\n",
      "1 ['trains', '  ', 'exploiting', 'superconductivity', ' aero-train”', 'part', 'part', 'aircraft', '   traffic', 'transportation', 'growing', 'problems'] \n",
      "\n",
      "1 ['innovative', 'design', 'future', 'transport', 'aero-train', 'partly', 'partly', 'aircraft ', 'vehicle', 'designed', 'wings', 'flies'] \n",
      "\n",
      "2 ['pool ', 'one', 'freezing', 'cold', 'salt', 'water', 'fishermen ', 'and ', 'course ', 'forum', 'athletes’', 'tournaments '] \n",
      "\n",
      "0 ['demonstrated', 'significantly', 'higher', 'percentfast ', 'since', 'g3', 'hec', 'all ', 'influence', 'repetition', 'cannot', 'neglected '] \n",
      "\n",
      "2 ['covering', 'evolution', 'high', 'school ', 'states', 'begin', 'teachers', 'proper', 'implementation', 'ngss ', 'students', 'younger'] \n",
      "\n",
      "2 ['fact', 'latin-american', 'countries', 'present', 'ideal', 'environments', 'young', 'scientists ', 'countries', 'lack', 'local', 'scientific'] \n",
      "\n",
      "2 ['change ', 'result ', 'new', 'educational', 'strategies', 'required', 'future', 'generations', 'scientists', 'well', 'increase', 'public'] \n",
      "\n",
      "0 ['methods', 'usually', 'take', 'number', 'labeled', 'samples', 'classifiers ', 'classification', 'accuracy', 'depends', 'selected', 'training'] \n",
      "\n",
      "1 ['effectively', 'used', 'sec ', 'however ', 'still', 'time-costing', 'deep', 'network', 'model', 'dl', 'algorithms', 'large-scale'] \n",
      "\n",
      "0 ['similarity', 'functions', 'concatenated', 'feature', 'vector ', 'used', 'classifier', 'determining', 'whether', 'corresponding', 'two', 'tracks'] \n",
      "\n",
      "0 ['first ', 'similarities', 'based', 'different', 'descriptors', 'adopted', 'classifier ', 'then ', 'decision', 'made', 'classifier', 'integrated'] \n",
      "\n",
      "0 ['collect', 'large', 'number', 'ecg', 'heartbeats', 'order', 'reliable', 'biometric', 'system ', 'hence ', 'issue', 'might'] \n",
      "\n",
      "0 ['size', 'environment', 'allocating', 'small', 'number', 'observations', 'model ', 'chose', 'arbitrary', 'number', '20', 'observations'] \n",
      "\n",
      "1 ['embedded', 'systems ', 'multiple', 'objects', 'environment', 'used', 'evolved', 'neural', 'network', 'time '] \n",
      "\n",
      "0 ['sequence', 'file', 'parsing', 'routine ', 'strand', 'able', 'classify', 'malware', 'data', 'changes while', 'produce', 'winning'] \n",
      "\n",
      "1 ['image', 'inpainting', 'includes', 'proposition', 'distributed', 'algorithm', 'rbm', ' restricted', 'boltzmann', 'machine ', 'model', 'based'] \n",
      "\n",
      "1 ['use', 'publicly', 'available ', 'noisy', 'data', 'sources', 'generic', 'models', 'vastly', 'improve', 'upon', 'state-of-the-art'] \n",
      "\n",
      "1 ['monocular', 'camera', 'images', 'independently', 'camera', 'calibration', 'cnn', 'predict', 'probability', 'task-space', 'motion', 'gripper'] \n",
      "\n",
      "2 ['sources', 'many', 'developed', 'countries', 'airline', 'transportation ', 'trips ', 'commuting ', 'resource', 'poor', 'countries', 'information'] \n"
     ]
    },
    {
     "name": "stdout",
     "output_type": "stream",
     "text": [
      "\n",
      "0 ['shown', 'bci', 'potential', 'alternative', 'treatment', 'option', 'adhd', 'subjects', ' –  ', 'neurofeedback', 'adhd', 'treatment'] \n",
      "\n",
      "0 ['relative', 'frequency', 'training', 'set ', 'creating', 'balanced', 'set', 'undersampling', 'majority', 'class', 'retaining', 'original'] \n",
      "\n",
      "0 ['pre-diagnosis', 'model', 'considerably', 'fewer', 'data', 'points', 'on ', 'result ', 'likely', 'pre-diagnosis', 'accuracy', 'scores'] \n",
      "\n",
      "1 ['  ', 'truccolo', '   ', 'modir', '   ', 'spike', 'analysis', 'active', 'neurobiological', 'research', 'area', 'calling'] \n",
      "\n",
      "0 ['machine', 'learning ', 'adjacency', 'matrix', 'given', 'goal', 'model', 'tuning', 'matrix', 'latent', 'features', 'way'] \n",
      "\n",
      "1 ['sekimoto', '   ', 'model', 'used', 'finding', 'optimal', 'schedule', 'based', 'train', 'demand ', 'proposed', 'orlin '] \n",
      "\n",
      "1 ['used', 'finding', 'optimal', 'train', 'schedule', 'based', 'demand ', 'proposed', 'orlin ', 'serafini ', 'ukovich', ' –  '] \n",
      "\n",
      "1 ['  ', 'gives', 'methodology', 'extract', 'relevant', 'data', 'station', 'making', 'relationship', 'tables', 'interlocking', 'tables '] \n",
      "\n",
      "0 ['safety', 'control', 'system', 'supervises', 'correct', 'movement', 'yard ', 'since', 'real', 'time', 'safety', 'critical'] \n",
      "\n",
      "1 ['triangular', 'maps ', 'intervals', 'referred', 'build', 'terminology each', 'headed', 'interval', 'call', 'engine ', 'good', 'estimates'] \n",
      "\n",
      "0 [' opposing', 'brexit  ', ' uncommitted  ', 'labeled', 'tweets', 'used', 'classifier', 'automatically', 'labeled', 'remaining', 'tweets ', 'tweet'] \n",
      "\n",
      "0 ['consistency', 'tag', 'application', 'removes', 'requirement', 'retailers', 'resource', 'staff', 'tag', 'items', 'store', ' beck'] \n",
      "\n",
      "0 ['represent', 'best', 'way', 'teach', 'properly', 'pocus', 'new', 'operators ', 'here ', 'report', 'revision', 'common'] \n",
      "\n",
      "0 ['doctors', 'trained', 'ultrasound', 'all ', 'actually ', 'decided', 'nurse', 'ultrasound', 'low', 'doctor/population', 'ratio', 'sierra'] \n",
      "\n",
      "0 ['light', 'railway ', 'connections ', 'bus', 'station ', 'high-speed', 'station also ', 'one', 'aims', 'also', 'create', 'mixed-use'] \n",
      "\n",
      "0 ['embodied', 'spatial', 'training', 'may', 'provide', 'means', 'fundamental', 'cognitive', 'skill ', 'spatial', 'thinking ', 'turn'] \n",
      "\n",
      "0 ['whether', 'authentic ', 'remains', 'determined', 'whether', 'possible', 'people', 'make', 'use', 'physically', 'implausible', 'inconsistencies '] \n",
      "\n",
      "1 ['extending', '70 263', 'm these', 'training', 'data', 'used', 'obia', 'software', ' fa  ', 'identify', 'extract', 'peatland'] \n",
      "\n",
      "2 ['courses ', 'fosters', 'ability', 'implement', 'assessment', 'types', 'learners reviewing', 'challenges', 'probable', 'solutions', 'implementing', 'self-assessment'] \n",
      "\n",
      "2 ['definitions', 'education', 'sustainability', ' efs  ', 'yet', 'common', 'thought', 'appears', 'notion', 'enabling', 'transformative', 'change'] \n",
      "\n",
      "2 ['groups ', 'training', 'means', 'experience ', 'members', 'confidence', 'others', 'likely', 'others', 'come', 'advice', ' davis'] \n",
      "\n"
     ]
    }
   ],
   "source": [
    "for d in contexts[-1]:\n",
    "    print(define_window(d, target_definitions), d, '\\n')"
   ]
  }
 ],
 "metadata": {
  "kernelspec": {
   "display_name": "Python 3",
   "language": "python",
   "name": "python3"
  },
  "language_info": {
   "codemirror_mode": {
    "name": "ipython",
    "version": 3
   },
   "file_extension": ".py",
   "mimetype": "text/x-python",
   "name": "python",
   "nbconvert_exporter": "python",
   "pygments_lexer": "ipython3",
   "version": "3.6.1"
  }
 },
 "nbformat": 4,
 "nbformat_minor": 2
}
