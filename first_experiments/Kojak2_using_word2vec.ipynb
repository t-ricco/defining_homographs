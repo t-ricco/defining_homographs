{
 "cells": [
  {
   "cell_type": "markdown",
   "metadata": {},
   "source": [
    "### Project Kojak\n",
    "\n",
    "Using word2vec word embeddings, we will identify words that are homographs (spelled the same, but with multiple meanings) and determine the exact meaning of the word from a context window."
   ]
  },
  {
   "cell_type": "code",
   "execution_count": 1,
   "metadata": {},
   "outputs": [
    {
     "name": "stderr",
     "output_type": "stream",
     "text": [
      "Using Theano backend.\n"
     ]
    }
   ],
   "source": [
    "import gensim\n",
    "import json\n",
    "import os\n",
    "import re\n",
    "from nltk.corpus import stopwords\n",
    "from pprint import pprint\n",
    "\n"
   ]
  },
  {
   "cell_type": "code",
   "execution_count": 2,
   "metadata": {
    "collapsed": true
   },
   "outputs": [],
   "source": [
    "# Declare stopwords, preprocess the data from source file abstracts.json\n",
    "\n",
    "stop = stopwords.words('english')\n",
    "stop+=['?','!','.',',',':',';','[',']','[]','“' ]\n",
    "\n",
    "class MyPapers(object):\n",
    "    # a memory-friendly way to load a large corpora\n",
    "     def __init__(self, dirname):\n",
    "            self.dirname = dirname\n",
    " \n",
    "     def __iter__(self):\n",
    "        with open(self.dirname) as data_file:    \n",
    "            data = json.load(data_file)\n",
    "        # iterate through all file names in our directory\n",
    "        for paper in data:\n",
    "            #yield paper['full_text'].lower().split()\n",
    "            line = [word for word in paper['full_text'].lower().split() if word not in stop]\n",
    "            line = [re.sub(r'[?\\.,!:;\\(\\)“]','',l) for l in line]\n",
    "            yield line\n",
    "                "
   ]
  },
  {
   "cell_type": "code",
   "execution_count": 3,
   "metadata": {
    "collapsed": true
   },
   "outputs": [],
   "source": [
    "#Instantiate iterable on the data\n",
    "\n",
    "papers = MyPapers('abstract_scraper/full.json') "
   ]
  },
  {
   "cell_type": "code",
   "execution_count": 4,
   "metadata": {},
   "outputs": [
    {
     "name": "stderr",
     "output_type": "stream",
     "text": [
      "/Users/Tom/anaconda/lib/python2.7/site-packages/ipykernel_launcher.py:17: UnicodeWarning: Unicode equal comparison failed to convert both arguments to Unicode - interpreting them as being unequal\n"
     ]
    }
   ],
   "source": [
    "#Initialize the model\n",
    "\n",
    "model = gensim.models.word2vec.Word2Vec(sentences = papers, size=100, window=5, min_count=4, workers=2,sg=1)"
   ]
  },
  {
   "cell_type": "code",
   "execution_count": 6,
   "metadata": {},
   "outputs": [
    {
     "data": {
      "text/plain": [
       "705"
      ]
     },
     "execution_count": 6,
     "metadata": {},
     "output_type": "execute_result"
    }
   ],
   "source": [
    "model.corpus_count"
   ]
  },
  {
   "cell_type": "code",
   "execution_count": 5,
   "metadata": {
    "collapsed": true
   },
   "outputs": [],
   "source": [
    "vectors = model.wv"
   ]
  },
  {
   "cell_type": "code",
   "execution_count": 6,
   "metadata": {},
   "outputs": [
    {
     "data": {
      "text/plain": [
       "array([ 0.17825891,  0.02763059, -0.38819501,  0.76435179, -0.1224629 ,\n",
       "        0.20958181, -0.60579371, -0.10117049, -0.02767174, -0.16134006,\n",
       "       -0.02301087,  0.43878481,  0.28521818, -0.04950119, -0.05156896,\n",
       "        0.21588418,  0.2238759 ,  0.166512  , -0.45001572,  0.98030335,\n",
       "        0.31795076, -0.03204121,  0.78066665,  0.21388581,  0.17579487,\n",
       "       -0.55938214,  0.34476283,  0.1562061 , -0.21031822,  0.20882048,\n",
       "        0.03267602, -0.3113665 ,  0.61904722, -0.15829873,  0.50858819,\n",
       "       -0.12459898, -0.44563791,  0.05365699, -0.65739572,  0.36476001,\n",
       "       -0.30184168,  0.53788775, -0.00974252,  0.0177775 , -0.12691692,\n",
       "       -0.48073232,  0.39651164,  0.39430544,  0.27370721, -0.36667523,\n",
       "       -0.16870221, -0.15307225,  0.17368501,  0.16112219, -0.26217571,\n",
       "        0.13525565,  0.33305067, -0.11685678, -0.03128953,  0.43858287,\n",
       "        0.0884467 , -0.26394305,  0.36755243,  0.21608105, -0.47787026,\n",
       "        0.3113932 , -0.29664072,  0.09352776,  0.00372994, -0.42216879,\n",
       "        0.29968551, -0.33689165, -0.18145682,  0.24380615,  0.65817851,\n",
       "        0.2344355 ,  0.02854181, -0.13106848,  0.33372569,  0.12876806,\n",
       "        0.02751115,  0.19203028, -0.41757983, -0.00271346, -0.31800368,\n",
       "        0.15648162,  0.17498954,  0.12240148, -0.13886702,  0.45763028,\n",
       "        0.10233086, -0.18799445, -0.04885823, -0.53422695,  0.45199636,\n",
       "        0.12094665, -0.50754219, -0.23042902, -0.46441141, -0.47680041], dtype=float32)"
      ]
     },
     "execution_count": 6,
     "metadata": {},
     "output_type": "execute_result"
    }
   ],
   "source": [
    "vectors['research']"
   ]
  },
  {
   "cell_type": "code",
   "execution_count": 7,
   "metadata": {},
   "outputs": [
    {
     "data": {
      "text/plain": [
       "[(u'researches', 0.67867112159729),\n",
       " (u'literature', 0.6695749759674072),\n",
       " (u'recommendations', 0.6658555269241333),\n",
       " (u'highlight', 0.6631516218185425),\n",
       " (u'suggestions', 0.6628372073173523),\n",
       " (u'k-12', 0.658211350440979),\n",
       " (u'works', 0.6569048166275024),\n",
       " (u'methodology', 0.6568661332130432)]"
      ]
     },
     "execution_count": 7,
     "metadata": {},
     "output_type": "execute_result"
    }
   ],
   "source": [
    "model.most_similar('research' ,topn=8)\n"
   ]
  },
  {
   "cell_type": "code",
   "execution_count": 8,
   "metadata": {},
   "outputs": [
    {
     "data": {
      "text/plain": [
       "[(u'smallest', 0.941720187664032),\n",
       " (u'intermediate', 0.936434268951416),\n",
       " (u'-th', 0.9309316873550415),\n",
       " (u'say', 0.9297983646392822),\n",
       " (u'moves', 0.9295343160629272),\n",
       " (u'supremum', 0.9284391403198242),\n",
       " (u'imply', 0.9256318807601929),\n",
       " (u'bid', 0.9244518280029297)]"
      ]
     },
     "execution_count": 8,
     "metadata": {},
     "output_type": "execute_result"
    }
   ],
   "source": [
    "model.most_similar('close' ,topn=8)\n"
   ]
  },
  {
   "cell_type": "code",
   "execution_count": 9,
   "metadata": {},
   "outputs": [
    {
     "data": {
      "text/plain": [
       "[(u'used', 0.6165218353271484),\n",
       " (u'uses', 0.5388023257255554),\n",
       " (u'alternative', 0.5333783030509949),\n",
       " (u'addition', 0.5080673694610596),\n",
       " (u'useful', 0.4978896677494049),\n",
       " (u'appropriate', 0.4967584013938904),\n",
       " (u'unknown', 0.49574515223503113),\n",
       " (u'powerful', 0.49347132444381714)]"
      ]
     },
     "execution_count": 9,
     "metadata": {},
     "output_type": "execute_result"
    }
   ],
   "source": [
    "model.most_similar('use' ,topn=8)\n"
   ]
  },
  {
   "cell_type": "code",
   "execution_count": 10,
   "metadata": {},
   "outputs": [
    {
     "data": {
      "text/plain": [
       "[(u'offshore', 0.8907073140144348),\n",
       " (u'farm', 0.8756291270256042),\n",
       " (u'renewable', 0.8563683032989502),\n",
       " (u'farms', 0.8489881157875061),\n",
       " (u'electricity', 0.8368750810623169),\n",
       " (u'turbine', 0.8103119730949402),\n",
       " (u'generation', 0.7943708896636963),\n",
       " (u'turbines', 0.7937995791435242)]"
      ]
     },
     "execution_count": 10,
     "metadata": {},
     "output_type": "execute_result"
    }
   ],
   "source": [
    "model.most_similar('wind' ,topn=8)\n"
   ]
  },
  {
   "cell_type": "code",
   "execution_count": 11,
   "metadata": {},
   "outputs": [
    {
     "data": {
      "text/plain": [
       "2898247"
      ]
     },
     "execution_count": 11,
     "metadata": {},
     "output_type": "execute_result"
    }
   ],
   "source": [
    "model.train(sentences = papers,total_examples=model.corpus_count, epochs = model.iter)"
   ]
  },
  {
   "cell_type": "code",
   "execution_count": 12,
   "metadata": {},
   "outputs": [
    {
     "data": {
      "text/plain": [
       "[(u'exploring', 0.5740522146224976),\n",
       " (u'researches', 0.5566179752349854),\n",
       " (u'advance', 0.5519660711288452),\n",
       " (u'extant', 0.5498912930488586),\n",
       " (u'innovationthe', 0.5478745102882385),\n",
       " (u'discussing', 0.5470035076141357),\n",
       " (u'interdisciplinary', 0.5466692447662354),\n",
       " (u'suggestion', 0.546507716178894)]"
      ]
     },
     "execution_count": 12,
     "metadata": {},
     "output_type": "execute_result"
    }
   ],
   "source": [
    "model.most_similar('research' ,topn=8)\n"
   ]
  },
  {
   "cell_type": "code",
   "execution_count": 13,
   "metadata": {},
   "outputs": [
    {
     "data": {
      "text/plain": [
       "[(u'coincide', 0.6834981441497803),\n",
       " (u'attracting', 0.6830309629440308),\n",
       " (u'recognizable', 0.6794874668121338),\n",
       " (u'unequal', 0.6720108985900879),\n",
       " (u'ramps', 0.6675475835800171),\n",
       " (u'loses', 0.6657685041427612),\n",
       " (u'snic', 0.6635018587112427),\n",
       " (u'nebentypus', 0.6631600260734558)]"
      ]
     },
     "execution_count": 13,
     "metadata": {},
     "output_type": "execute_result"
    }
   ],
   "source": [
    "model.most_similar('close' ,topn=8)\n"
   ]
  },
  {
   "cell_type": "code",
   "execution_count": 14,
   "metadata": {},
   "outputs": [
    {
     "data": {
      "text/plain": [
       "[(u'uses', 0.47957053780555725),\n",
       " (u'illicit', 0.4514145255088806),\n",
       " (u'sure', 0.4439316987991333),\n",
       " (u'instead', 0.4426302909851074),\n",
       " (u'unavailable', 0.4142072796821594),\n",
       " (u'wrong', 0.4112270772457123),\n",
       " (u'zoning', 0.40751612186431885),\n",
       " (u'encryption', 0.40598928928375244)]"
      ]
     },
     "execution_count": 14,
     "metadata": {},
     "output_type": "execute_result"
    }
   ],
   "source": [
    "model.most_similar('use' ,topn=8)\n"
   ]
  },
  {
   "cell_type": "code",
   "execution_count": 15,
   "metadata": {},
   "outputs": [
    {
     "data": {
      "text/plain": [
       "[(u'farm', 0.8397685289382935),\n",
       " (u'offshore', 0.8078193068504333),\n",
       " (u'farms', 0.760556161403656),\n",
       " (u'onshore', 0.757138192653656),\n",
       " (u'turbine', 0.7163775563240051),\n",
       " (u'lcoe', 0.7067546844482422),\n",
       " (u'turbines', 0.6901949644088745),\n",
       " (u'photovoltaic', 0.6621192693710327)]"
      ]
     },
     "execution_count": 15,
     "metadata": {},
     "output_type": "execute_result"
    }
   ],
   "source": [
    "model.most_similar('wind' ,topn=8)\n"
   ]
  },
  {
   "cell_type": "code",
   "execution_count": 16,
   "metadata": {},
   "outputs": [
    {
     "data": {
      "text/plain": [
       "2898224"
      ]
     },
     "execution_count": 16,
     "metadata": {},
     "output_type": "execute_result"
    }
   ],
   "source": [
    "model.train(sentences = papers,total_examples=model.corpus_count, epochs = model.iter)"
   ]
  },
  {
   "cell_type": "code",
   "execution_count": 17,
   "metadata": {},
   "outputs": [
    {
     "data": {
      "text/plain": [
       "[(u'recognizable', 0.553083598613739),\n",
       " (u'loses', 0.5403499603271484),\n",
       " (u'minimizer', 0.538335919380188),\n",
       " (u'displayed', 0.5253382325172424),\n",
       " (u'terminates', 0.5204147696495056),\n",
       " (u'2\\u20139', 0.5182613730430603),\n",
       " (u'disadvantaged', 0.5089924335479736),\n",
       " (u'nullcline', 0.5053083896636963),\n",
       " (u'stronger', 0.5035704970359802),\n",
       " (u'gotten', 0.503265917301178),\n",
       " (u'saddle-node', 0.5026227235794067),\n",
       " (u'2\\u20132', 0.5018879175186157),\n",
       " (u'm-d', 0.5015227794647217),\n",
       " (u'tight', 0.5008443593978882),\n",
       " (u'periphery', 0.500777542591095),\n",
       " (u'neighbors', 0.49957799911499023),\n",
       " (u'deform', 0.49761340022087097),\n",
       " (u'attracting', 0.49637165665626526),\n",
       " (u'intercept', 0.4960039258003235),\n",
       " (u'harrison', 0.49500516057014465)]"
      ]
     },
     "execution_count": 17,
     "metadata": {},
     "output_type": "execute_result"
    }
   ],
   "source": [
    "model.most_similar('close' ,topn=20)\n"
   ]
  },
  {
   "cell_type": "code",
   "execution_count": 18,
   "metadata": {},
   "outputs": [
    {
     "data": {
      "text/plain": [
       "[(u'illicit', 0.5334938764572144),\n",
       " (u'uses', 0.5033749341964722),\n",
       " (u'sure', 0.47222280502319336),\n",
       " (u'rudimentary', 0.45067834854125977),\n",
       " (u'zoning', 0.443381667137146),\n",
       " (u'used', 0.4423278868198395),\n",
       " (u'tam', 0.4411676526069641),\n",
       " (u'utilize', 0.438945472240448),\n",
       " (u'gis-based', 0.43141502141952515),\n",
       " (u'revolutionized', 0.42527222633361816),\n",
       " (u'extant', 0.42283767461776733),\n",
       " (u'converse', 0.4222954511642456),\n",
       " (u'blend', 0.42210543155670166),\n",
       " (u'adopted', 0.42109984159469604),\n",
       " (u'assists', 0.4208453893661499),\n",
       " (u'one-step', 0.4201527237892151),\n",
       " (u'ubiquity', 0.4186035990715027),\n",
       " (u'gym-goers', 0.41832393407821655),\n",
       " (u'recommends', 0.41741371154785156),\n",
       " (u'efficient', 0.41677191853523254)]"
      ]
     },
     "execution_count": 18,
     "metadata": {},
     "output_type": "execute_result"
    }
   ],
   "source": [
    "model.most_similar('use' ,topn=20)\n"
   ]
  },
  {
   "cell_type": "code",
   "execution_count": 20,
   "metadata": {},
   "outputs": [
    {
     "data": {
      "text/plain": [
       "[(u'left', 0.7097992300987244),\n",
       " (u'volar', 0.6841639280319214),\n",
       " (u'forearm', 0.6467432379722595),\n",
       " (u'recognizable', 0.6323999166488647),\n",
       " (u'pitcher', 0.617566704750061),\n",
       " (u'extremities', 0.6084349155426025),\n",
       " (u'epicondyle', 0.6058075428009033),\n",
       " (u'palpation', 0.605347216129303),\n",
       " (u'softball', 0.5909222364425659),\n",
       " (u'corner', 0.590570330619812),\n",
       " (u'dorsal', 0.5805616974830627),\n",
       " (u'complaint', 0.5794276595115662),\n",
       " (u'harrison', 0.5707764625549316),\n",
       " (u'tight', 0.5695618391036987),\n",
       " (u'phronesis', 0.5656307935714722),\n",
       " (u'fold', 0.5650084614753723),\n",
       " (u'large-amplitude', 0.5597513914108276),\n",
       " (u'wound', 0.5591278076171875),\n",
       " (u'cervical', 0.5547938346862793),\n",
       " (u'dog', 0.5530991554260254)]"
      ]
     },
     "execution_count": 20,
     "metadata": {},
     "output_type": "execute_result"
    }
   ],
   "source": [
    "model.most_similar('right' ,topn=20)\n"
   ]
  },
  {
   "cell_type": "code",
   "execution_count": 21,
   "metadata": {},
   "outputs": [
    {
     "data": {
      "text/plain": [
       "[(u'conic', 0.6877789497375488),\n",
       " (u'quants', 0.6690090894699097),\n",
       " (u'pricing', 0.6683673858642578),\n",
       " (u'neoclassical', 0.6548030376434326),\n",
       " (u'continuous-time', 0.6339081525802612),\n",
       " (u'dividend', 0.6310253143310547),\n",
       " (u'bank\\u2019s', 0.6251856684684753),\n",
       " (u'liquidity', 0.6193803548812866),\n",
       " (u'proposals', 0.6192363500595093),\n",
       " (u'sis', 0.6175393462181091),\n",
       " (u'venture', 0.6157879829406738),\n",
       " (u'academies', 0.6118347644805908),\n",
       " (u'discounting', 0.6115192174911499),\n",
       " (u'tackling', 0.6090777516365051),\n",
       " (u'es', 0.607329785823822),\n",
       " (u'advocated', 0.6070413589477539),\n",
       " (u'economics', 0.6062716841697693),\n",
       " (u'del', 0.6061701774597168),\n",
       " (u'bachelier', 0.6060438752174377),\n",
       " (u'twenty-first-century', 0.6056631207466125)]"
      ]
     },
     "execution_count": 21,
     "metadata": {},
     "output_type": "execute_result"
    }
   ],
   "source": [
    "model.most_similar('finance' ,topn=20)\n"
   ]
  },
  {
   "cell_type": "code",
   "execution_count": 22,
   "metadata": {},
   "outputs": [
    {
     "data": {
      "text/plain": [
       "[(u'upload', 0.6762716770172119),\n",
       " (u'annotate', 0.6587749719619751),\n",
       " (u'retrieve', 0.6553597450256348),\n",
       " (u'browser', 0.6459447741508484),\n",
       " (u'encrypted', 0.6331414580345154),\n",
       " (u'queries', 0.6285848617553711),\n",
       " (u'tld', 0.6193617582321167),\n",
       " (u'debugger', 0.6168504357337952),\n",
       " (u'babies\\u2019', 0.6138877868652344),\n",
       " (u'sender', 0.6113730669021606),\n",
       " (u'readings', 0.6051900386810303),\n",
       " (u'searchable', 0.6034226417541504),\n",
       " (u'text-based', 0.6013210415840149),\n",
       " (u'authentication', 0.6010237336158752),\n",
       " (u'domain-specific', 0.5972707271575928),\n",
       " (u'readable', 0.5944960117340088),\n",
       " (u'sideline', 0.5907342433929443),\n",
       " (u'shopping', 0.5857497453689575),\n",
       " (u'headache\\u201d', 0.5853506326675415),\n",
       " (u'pulled', 0.5846382975578308)]"
      ]
     },
     "execution_count": 22,
     "metadata": {},
     "output_type": "execute_result"
    }
   ],
   "source": [
    "model.most_similar('record' ,topn=20)\n"
   ]
  },
  {
   "cell_type": "code",
   "execution_count": 23,
   "metadata": {},
   "outputs": [
    {
     "data": {
      "text/plain": [
       "2898434"
      ]
     },
     "execution_count": 23,
     "metadata": {},
     "output_type": "execute_result"
    }
   ],
   "source": [
    "model.train(sentences = papers,total_examples=model.corpus_count, epochs = model.iter)"
   ]
  },
  {
   "cell_type": "code",
   "execution_count": null,
   "metadata": {
    "collapsed": true
   },
   "outputs": [],
   "source": []
  }
 ],
 "metadata": {
  "kernelspec": {
   "display_name": "Python 2",
   "language": "python",
   "name": "python2"
  },
  "language_info": {
   "codemirror_mode": {
    "name": "ipython",
    "version": 2
   },
   "file_extension": ".py",
   "mimetype": "text/x-python",
   "name": "python",
   "nbconvert_exporter": "python",
   "pygments_lexer": "ipython2",
   "version": "2.7.13"
  }
 },
 "nbformat": 4,
 "nbformat_minor": 2
}
