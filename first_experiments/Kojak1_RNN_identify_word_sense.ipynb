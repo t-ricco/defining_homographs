{
 "cells": [
  {
   "cell_type": "markdown",
   "metadata": {},
   "source": [
    "# Kojak\n",
    "\n",
    "Classifying the meaning of homographs by their context."
   ]
  },
  {
   "cell_type": "code",
   "execution_count": 1,
   "metadata": {},
   "outputs": [
    {
     "name": "stderr",
     "output_type": "stream",
     "text": [
      "Using Theano backend.\n"
     ]
    }
   ],
   "source": [
    "import numpy as np\n",
    "import pandas as pd\n",
    "import gensim\n",
    "import json\n",
    "import re\n",
    "import random\n",
    "\n",
    "from nltk.corpus import stopwords\n",
    "from nltk.corpus import wordnet\n",
    "from nltk.stem import WordNetLemmatizer \n",
    "from nltk.tokenize import word_tokenize, sent_tokenize\n",
    "from nltk import pos_tag\n",
    "from collections import Counter, defaultdict\n"
   ]
  },
  {
   "cell_type": "code",
   "execution_count": 2,
   "metadata": {
    "collapsed": true
   },
   "outputs": [],
   "source": [
    "# Declare stopwords, preprocess the data from source file abstracts.json\n",
    "\n",
    "stop = stopwords.words('english')\n",
    "stop += ['?','!','.',',',':',';','[',']','[]','“' ]\n",
    "stop += ['.', ',', '(', ')', \"'\", '\"',\"''\",'\"\"',\"``\",'”', '“', '?', '!', '’', 'et', 'al.', 'study', \"\"]\n",
    "stop = set(stop)\n",
    "\n",
    "class MyPapers(object):\n",
    "    # a memory-friendly way to load a large corpora\n",
    "     def __init__(self, dirname):\n",
    "            self.dirname = dirname\n",
    " \n",
    "     def __iter__(self):\n",
    "        with open(self.dirname) as data_file:    \n",
    "            data = json.load(data_file)\n",
    "        # iterate through all file names in our directory\n",
    "        for paper in data:\n",
    "            sentences = sent_tokenize(paper['full_text'])\n",
    "            for sentence in sentences:\n",
    "                try:\n",
    "                    line = re.sub(r'[?\\.,!:;\\(\\)“\\[\\]]',' ',sentence)\n",
    "                    line = [word for word in line.lower().split() if word not in stop]\n",
    "                    yield line\n",
    "                except:\n",
    "                    print(\"Empty line found\")\n",
    "                    \n",
    "class MySentences(object):\n",
    "    # a memory-friendly way to load a large corpora\n",
    "     def __init__(self, dirname):\n",
    "            self.dirname = dirname\n",
    " \n",
    "     def __iter__(self):\n",
    "        with open(self.dirname) as data_file:    \n",
    "            data = json.load(data_file)\n",
    "        # iterate through all file names in our directory\n",
    "        for paper in data:\n",
    "            sentences = sent_tokenize(paper['full_text'])\n",
    "            for sentence in sentences:\n",
    "                try:\n",
    "                    line = re.sub(r'[?\\.,!:;\\(\\)“\\[\\]]',' ',sentence)\n",
    "                    yield line\n",
    "                except:\n",
    "                    print(\"Empty line found\")"
   ]
  },
  {
   "cell_type": "code",
   "execution_count": 3,
   "metadata": {
    "collapsed": true
   },
   "outputs": [],
   "source": [
    "#Instantiate iterable on the data\n",
    "\n",
    "#papers is an iterable of scholarly papers, tokenized for prcessing\n",
    "papers = MyPapers('../data/train_data.json') \n"
   ]
  },
  {
   "cell_type": "code",
   "execution_count": 4,
   "metadata": {
    "collapsed": true
   },
   "outputs": [],
   "source": [
    "# Arguments: Finds the corresponding source sentance in the source .json file\n",
    "# that corresponds to the given tokenized word_list\n",
    "\n",
    "def find_sentence(json_file, word_list):\n",
    "    words = []\n",
    "    for w in word_list:\n",
    "        for _ in w.split('_'):\n",
    "            words.append(_)\n",
    "    for paper in json_file:\n",
    "        for sentence in sent_tokenize(paper['full_text']):\n",
    "            if all(word in sentence.lower() for word in words):\n",
    "                return sentence\n",
    "            \n",
    "#Identifies and transforms corpus (An iterator) to contain bigrams and trigrams\n",
    "\n",
    "def MyPapers_plus(papers):\n",
    "    \n",
    "    phrases = gensim.models.phrases.Phrases(sentences = papers, min_count = 5, threshold = 150)\n",
    "    bigram = gensim.models.phrases.Phraser(phrases)\n",
    "    phrases2 = gensim.models.phrases.Phrases(sentences = bigram[papers], min_count = 5, threshold = 300)\n",
    "    trigram = gensim.models.phrases.Phraser(phrases2)\n",
    "    \n",
    "    return trigram[bigram[papers]]\n",
    "\n",
    "# Takes list of word tokens as arguments\n",
    "# Returns a list of vectors whose components are the arithmetic mean of the \n",
    "# corresponding component of all of the input vectors\n",
    "\n",
    "def get_vectors(word_list):\n",
    "    vecs = []\n",
    "    for word in word_list:\n",
    "        try:\n",
    "            vecs.append(vectors[word])\n",
    "        except:\n",
    "            print(\"{} missing from vocabulary\".format(word))\n",
    "            #continue\n",
    "    return vecs\n",
    "\n",
    "# The function takes as arguments a list of tokenized documents and a window size\n",
    "# and returns each word in the document along with its window context as a tuple\n",
    "\n",
    "def generate_word_counts(documents):\n",
    "    counts = Counter()\n",
    "    \n",
    "    for document in documents:        \n",
    "        for word in set(document):                    \n",
    "            counts[word] += 1\n",
    "            \n",
    "    return counts"
   ]
  },
  {
   "cell_type": "code",
   "execution_count": 5,
   "metadata": {
    "collapsed": true
   },
   "outputs": [],
   "source": [
    "# declaring the multiple definitions of \"charge\" and \"state\"\n",
    "\n",
    "charge_def = {1:\"(criminal law) a pleading describing some wrong or offense\",\n",
    "              2:\"a quantity of explosive to be set off at one time\",\n",
    "              3:\"the quantity of unbalanced electricity in a body (either positive or negative) and construed as an excess or deficiency of electrons\",\n",
    "              4:\"request for payment of a debt\"}\n",
    "\n",
    "state_def = {1:\"the condition of matter with respect to structure, form, constitution, phase, or the like\",\n",
    "            2:\"a politically unified people occupying a definite territory\",\n",
    "            3: \"express something definitely or clearly in speech or writing\"}\n"
   ]
  },
  {
   "cell_type": "code",
   "execution_count": 6,
   "metadata": {
    "collapsed": true
   },
   "outputs": [],
   "source": [
    "# import pretrained word embeddings model\n",
    "\n",
    "model = gensim.models.word2vec.Word2Vec.load(\"../data/journal.txt\")"
   ]
  },
  {
   "cell_type": "code",
   "execution_count": 10,
   "metadata": {},
   "outputs": [
    {
     "data": {
      "text/plain": [
       "127777"
      ]
     },
     "execution_count": 10,
     "metadata": {},
     "output_type": "execute_result"
    }
   ],
   "source": [
    "model.corpus_count\n",
    "vectors = model.wv\n",
    "vocab = vectors.vocab\n",
    "word_counts = generate_word_counts(MyPapers_plus(papers))\n",
    "len(vectors.vocab)"
   ]
  },
  {
   "cell_type": "code",
   "execution_count": 6,
   "metadata": {
    "collapsed": true
   },
   "outputs": [],
   "source": [
    "# Arguments: List of tokenized word sequence and returns word sequences corresponding to window_size\n",
    "\n",
    "def target_context(sentence, target, window_size = 6):\n",
    "    maxlen = window_size*2\n",
    "    \n",
    "    L = len(sentence)\n",
    "    # Choose the target word\n",
    "    target_arg = sentence.index(target)\n",
    "\n",
    "    s = target_arg-window_size\n",
    "    e = target_arg+window_size+1\n",
    "\n",
    "    context_words = []\n",
    "    # Create the input/outputs for skipgrams\n",
    "    for i in range(s, e):\n",
    "        if 0 <= i < L:\n",
    "            context_words.append(sentence[i])\n",
    "            \n",
    "    return context_words\n",
    "\n",
    "def read_glossary(glossary):\n",
    "    \n",
    "    vector_glossary = dict()\n",
    "    \n",
    "    for k, v in glossary.items():\n",
    "        vector_glossary[k] = {key:vector_average2(tokenize.word_tokenize(value)) for (key,value) in v.items()}\n",
    "    \n",
    "    return vector_glossary\n",
    "\n",
    "def get_target_sentences(documents, target):\n",
    "    \n",
    "    context_sentences = []\n",
    "\n",
    "    for document in documents:\n",
    "        #print(document[:15])\n",
    "        sentence = document\n",
    "        if target in sentence:\n",
    "            #str_sentence = streamlined_sentence(sentence)\n",
    "            #print[str_sentence]\n",
    "            #sentence.remove(target)\n",
    "            context_sentences.append(sentence)\n",
    "            \n",
    "    return context_sentences"
   ]
  },
  {
   "cell_type": "code",
   "execution_count": 7,
   "metadata": {
    "collapsed": true
   },
   "outputs": [],
   "source": [
    "# Build a corpus of sentences containing the word state\n",
    "\n",
    "target = ' state '\n",
    "sentences = MySentences('../data/train_data.json')\n",
    "STATE_sentences = get_target_sentences(sentences,target)"
   ]
  },
  {
   "cell_type": "code",
   "execution_count": 8,
   "metadata": {},
   "outputs": [
    {
     "data": {
      "text/plain": [
       "1874"
      ]
     },
     "execution_count": 8,
     "metadata": {},
     "output_type": "execute_result"
    }
   ],
   "source": [
    "len(STATE_sentences)"
   ]
  },
  {
   "cell_type": "code",
   "execution_count": 32,
   "metadata": {
    "collapsed": true
   },
   "outputs": [],
   "source": [
    "STATE_sentences = random.sample(STATE_sentences, 600)\n",
    "sense_label = np.zeros(len(STATE_sentences))\n",
    "sense_label.fill(-1)\n",
    "STATE_df = pd.DataFrame({'sentences':STATE_sentences, 'sense_labels':sense_label})\n",
    "STATE_df.to_pickle('STATE_df.pkl')\n"
   ]
  },
  {
   "cell_type": "code",
   "execution_count": 10,
   "metadata": {
    "collapsed": true
   },
   "outputs": [],
   "source": [
    "# Pickle small slices of the previously created dataframe to label through the terminal\n",
    "STATE_df = pd.read_pickle('STATE_df.pkl')\n",
    "\n",
    "start = 0\n",
    "labeled_frames = []"
   ]
  },
  {
   "cell_type": "code",
   "execution_count": 41,
   "metadata": {
    "collapsed": true
   },
   "outputs": [],
   "source": [
    "df = STATE_df[start:start+20]\n",
    "df.to_pickle('STATE_df.pkl')\n",
    "start+=20"
   ]
  },
  {
   "cell_type": "code",
   "execution_count": 42,
   "metadata": {
    "collapsed": true
   },
   "outputs": [],
   "source": [
    "labeled_frames.append(pd.read_pickle('STATE_df_labeled'))"
   ]
  },
  {
   "cell_type": "code",
   "execution_count": 43,
   "metadata": {},
   "outputs": [
    {
     "data": {
      "text/plain": [
       "11"
      ]
     },
     "execution_count": 43,
     "metadata": {},
     "output_type": "execute_result"
    }
   ],
   "source": [
    "len(labeled_frames)"
   ]
  },
  {
   "cell_type": "code",
   "execution_count": 44,
   "metadata": {
    "collapsed": true
   },
   "outputs": [],
   "source": [
    "# Concatenate the labeled dataframe slices\n",
    "STATE_df_labeled = pd.concat(labeled_frames)"
   ]
  },
  {
   "cell_type": "code",
   "execution_count": 48,
   "metadata": {
    "collapsed": true
   },
   "outputs": [],
   "source": [
    "# Filter out indeterminate labels\n",
    "STATE_df_labeled['sense_labels'] = STATE_df_labeled['sense_labels'].apply(lambda x : -1 if x == '' else x )\n",
    "STATE_df_labeled['sense_labels'] = STATE_df_labeled['sense_labels'].apply(lambda x : int(x) )\n",
    "STATE_df_labeled = STATE_df_labeled[STATE_df_labeled['sense_labels'] > 0]"
   ]
  },
  {
   "cell_type": "code",
   "execution_count": 50,
   "metadata": {
    "collapsed": true
   },
   "outputs": [],
   "source": [
    "def tokenize_plus(line):\n",
    "    line = re.sub(r'[?\\.,!:;\\(\\)“\\[\\]]',' ',line)\n",
    "    line = [word for word in line.lower().split() if word not in stop]\n",
    "    \n",
    "    return line\n",
    "\n",
    "STATE_df_labeled['tokenized_sentences'] = STATE_df_labeled['sentences'].apply(tokenize_plus)"
   ]
  },
  {
   "cell_type": "code",
   "execution_count": 53,
   "metadata": {
    "collapsed": true
   },
   "outputs": [],
   "source": [
    "target = 'state'\n",
    "STATE_df_labeled['window'] = STATE_df_labeled['tokenized_sentences'].apply(lambda x : target_context(x, target))"
   ]
  },
  {
   "cell_type": "code",
   "execution_count": 54,
   "metadata": {},
   "outputs": [
    {
     "data": {
      "text/html": [
       "<div>\n",
       "<style>\n",
       "    .dataframe thead tr:only-child th {\n",
       "        text-align: right;\n",
       "    }\n",
       "\n",
       "    .dataframe thead th {\n",
       "        text-align: left;\n",
       "    }\n",
       "\n",
       "    .dataframe tbody tr th {\n",
       "        vertical-align: top;\n",
       "    }\n",
       "</style>\n",
       "<table border=\"1\" class=\"dataframe\">\n",
       "  <thead>\n",
       "    <tr style=\"text-align: right;\">\n",
       "      <th></th>\n",
       "      <th>sense_labels</th>\n",
       "      <th>sentences</th>\n",
       "      <th>tokenized_sentences</th>\n",
       "      <th>window</th>\n",
       "    </tr>\n",
       "  </thead>\n",
       "  <tbody>\n",
       "    <tr>\n",
       "      <th>220</th>\n",
       "      <td>2</td>\n",
       "      <td>In this regard  sovereignty is conditional  th...</td>\n",
       "      <td>[regard, sovereignty, conditional, state’s, le...</td>\n",
       "      <td>[humanitarian, intervention, means, military, ...</td>\n",
       "    </tr>\n",
       "    <tr>\n",
       "      <th>221</th>\n",
       "      <td>2</td>\n",
       "      <td>Breidahl argues that similar  strong and roote...</td>\n",
       "      <td>[breidahl, argues, similar, strong, rooted, no...</td>\n",
       "      <td>[breidahl, argues, similar, strong, rooted, no...</td>\n",
       "    </tr>\n",
       "    <tr>\n",
       "      <th>222</th>\n",
       "      <td>2</td>\n",
       "      <td>We thus reanalyse the most up-to-date pan-Amaz...</td>\n",
       "      <td>[thus, reanalyse, up-to-date, pan-amazon, data...</td>\n",
       "      <td>[dynamics, decade-by-decade, level, biogeograp...</td>\n",
       "    </tr>\n",
       "    <tr>\n",
       "      <th>223</th>\n",
       "      <td>2</td>\n",
       "      <td>However  as Chinese firms become more involved...</td>\n",
       "      <td>[however, chinese, firms, become, involved, fo...</td>\n",
       "      <td>[organisations, leading, potential, tension, d...</td>\n",
       "    </tr>\n",
       "    <tr>\n",
       "      <th>224</th>\n",
       "      <td>2</td>\n",
       "      <td>Despite beginning from very similar innovation...</td>\n",
       "      <td>[despite, beginning, similar, innovation, syst...</td>\n",
       "      <td>[model, transition, economies, noting, importa...</td>\n",
       "    </tr>\n",
       "  </tbody>\n",
       "</table>\n",
       "</div>"
      ],
      "text/plain": [
       "     sense_labels                                          sentences  \\\n",
       "220             2  In this regard  sovereignty is conditional  th...   \n",
       "221             2  Breidahl argues that similar  strong and roote...   \n",
       "222             2  We thus reanalyse the most up-to-date pan-Amaz...   \n",
       "223             2  However  as Chinese firms become more involved...   \n",
       "224             2  Despite beginning from very similar innovation...   \n",
       "\n",
       "                                   tokenized_sentences  \\\n",
       "220  [regard, sovereignty, conditional, state’s, le...   \n",
       "221  [breidahl, argues, similar, strong, rooted, no...   \n",
       "222  [thus, reanalyse, up-to-date, pan-amazon, data...   \n",
       "223  [however, chinese, firms, become, involved, fo...   \n",
       "224  [despite, beginning, similar, innovation, syst...   \n",
       "\n",
       "                                                window  \n",
       "220  [humanitarian, intervention, means, military, ...  \n",
       "221  [breidahl, argues, similar, strong, rooted, no...  \n",
       "222  [dynamics, decade-by-decade, level, biogeograp...  \n",
       "223  [organisations, leading, potential, tension, d...  \n",
       "224  [model, transition, economies, noting, importa...  "
      ]
     },
     "execution_count": 54,
     "metadata": {},
     "output_type": "execute_result"
    }
   ],
   "source": [
    "STATE_df_labeled.head()"
   ]
  },
  {
   "cell_type": "code",
   "execution_count": 55,
   "metadata": {
    "collapsed": true
   },
   "outputs": [],
   "source": [
    "df = pd.read_pickle('STATE_df_labeled.pkl')"
   ]
  },
  {
   "cell_type": "code",
   "execution_count": 56,
   "metadata": {
    "collapsed": true
   },
   "outputs": [],
   "source": [
    "STATE_df_labeled = pd.concat([STATE_df_labeled,df])"
   ]
  },
  {
   "cell_type": "code",
   "execution_count": 57,
   "metadata": {},
   "outputs": [
    {
     "data": {
      "text/plain": [
       "434"
      ]
     },
     "execution_count": 57,
     "metadata": {},
     "output_type": "execute_result"
    }
   ],
   "source": [
    "len(STATE_df_labeled)"
   ]
  },
  {
   "cell_type": "code",
   "execution_count": 76,
   "metadata": {
    "collapsed": true
   },
   "outputs": [],
   "source": [
    "STATE_df_labeled.to_pickle('STATE_df_labeled.pkl')\n",
    "STATE_df[start:].to_pickle('STATE_df.pkl')"
   ]
  },
  {
   "cell_type": "code",
   "execution_count": 177,
   "metadata": {
    "collapsed": true
   },
   "outputs": [],
   "source": [
    "#Function no longer used\n",
    "\n",
    "def pad_vector_sequence(vector_list, max_len = 12):\n",
    "    array_len = len(vector_list)\n",
    "    if array_len < max_len:\n",
    "        new = list(vector_list) + (max_len-array_len)*[0]\n",
    "        return new\n",
    "    else:\n",
    "        return np.array(vector_list)"
   ]
  },
  {
   "cell_type": "code",
   "execution_count": 4,
   "metadata": {
    "collapsed": true
   },
   "outputs": [],
   "source": [
    "STATE_df_labeled = pd.read_pickle('STATE_df_labeled.pkl')"
   ]
  },
  {
   "cell_type": "markdown",
   "metadata": {},
   "source": [
    "### Validation data"
   ]
  },
  {
   "cell_type": "code",
   "execution_count": 93,
   "metadata": {
    "collapsed": true
   },
   "outputs": [],
   "source": [
    "# Build a corpus of sentences containing the word state\n",
    "\n",
    "target = ' state '\n",
    "sentences = MySentences('../data/validation_data.json')\n",
    "STATE_sentences = get_target_sentences(sentences,target)"
   ]
  },
  {
   "cell_type": "code",
   "execution_count": 94,
   "metadata": {
    "collapsed": true
   },
   "outputs": [],
   "source": [
    "#STATE_sentences = random.sample(STATE_sentences, 600)\n",
    "sense_label = np.zeros(len(STATE_sentences))\n",
    "sense_label.fill(-1)\n",
    "STATE_val_df = pd.DataFrame({'sentences':STATE_sentences, 'sense_labels':sense_label})\n",
    "STATE_val_df.to_pickle('STATE_val_df.pkl')\n"
   ]
  },
  {
   "cell_type": "code",
   "execution_count": 95,
   "metadata": {},
   "outputs": [
    {
     "data": {
      "text/plain": [
       "273"
      ]
     },
     "execution_count": 95,
     "metadata": {},
     "output_type": "execute_result"
    }
   ],
   "source": [
    "len(STATE_sentences)"
   ]
  },
  {
   "cell_type": "code",
   "execution_count": 96,
   "metadata": {
    "collapsed": true
   },
   "outputs": [],
   "source": [
    "# Pickle small slices of the previously created dataframe to label through the terminal\n",
    "#STATE_val_df = pd.read_pickle('STATE_val_df.pkl')\n",
    "\n",
    "start = 0\n",
    "labeled_val_frames = []"
   ]
  },
  {
   "cell_type": "code",
   "execution_count": 136,
   "metadata": {
    "collapsed": true
   },
   "outputs": [],
   "source": [
    "df = STATE_val_df[start:start+20]\n",
    "df.to_pickle('STATE_val_df.pkl')\n",
    "start+=20"
   ]
  },
  {
   "cell_type": "code",
   "execution_count": 137,
   "metadata": {
    "collapsed": true
   },
   "outputs": [],
   "source": [
    "labeled_val_frames.append(pd.read_pickle('STATE_val_df_labeled'))"
   ]
  },
  {
   "cell_type": "code",
   "execution_count": 138,
   "metadata": {},
   "outputs": [
    {
     "data": {
      "text/plain": [
       "14"
      ]
     },
     "execution_count": 138,
     "metadata": {},
     "output_type": "execute_result"
    }
   ],
   "source": [
    "len(labeled_val_frames)"
   ]
  },
  {
   "cell_type": "code",
   "execution_count": 139,
   "metadata": {
    "collapsed": true
   },
   "outputs": [],
   "source": [
    "# Concatenate the labeled dataframe slices\n",
    "STATE_val_df_labeled = pd.concat(labeled_val_frames)"
   ]
  },
  {
   "cell_type": "code",
   "execution_count": 140,
   "metadata": {
    "collapsed": true
   },
   "outputs": [],
   "source": [
    "# Filter out indeterminate labels\n",
    "STATE_val_df_labeled['sense_labels'] = STATE_val_df_labeled['sense_labels'].apply(lambda x : -1 if x == '' else x )\n",
    "STATE_val_df_labeled['sense_labels'] = STATE_val_df_labeled['sense_labels'].apply(lambda x : int(x) )\n",
    "STATE_val_df_labeled = STATE_val_df_labeled[STATE_val_df_labeled['sense_labels'] > 0]"
   ]
  },
  {
   "cell_type": "code",
   "execution_count": 150,
   "metadata": {
    "collapsed": true
   },
   "outputs": [],
   "source": [
    "def tokenize_plus(line):\n",
    "    line = re.sub(r'[?\\.,!:;\\(\\)“\\[\\]]',' ',line)\n",
    "    line = [word for word in line.lower().split() if word not in stop]\n",
    "    \n",
    "    return line\n",
    "\n",
    "STATE_val_df_labeled['tokenized_sentences'] = STATE_val_df_labeled['sentences'].apply(tokenize_plus)"
   ]
  },
  {
   "cell_type": "code",
   "execution_count": 151,
   "metadata": {
    "collapsed": true
   },
   "outputs": [],
   "source": [
    "target = 'state'\n",
    "STATE_val_df_labeled['window'] = STATE_val_df_labeled['tokenized_sentences'].apply(lambda x : target_context(x, target))"
   ]
  },
  {
   "cell_type": "code",
   "execution_count": 152,
   "metadata": {
    "collapsed": true
   },
   "outputs": [],
   "source": [
    "STATE_val_df_labeled.to_pickle('STATE_val_df_labeled')"
   ]
  },
  {
   "cell_type": "code",
   "execution_count": 26,
   "metadata": {
    "collapsed": true
   },
   "outputs": [],
   "source": [
    "STATE_df_labeled = pd.read_pickle('STATE_df_labeled.pkl')\n",
    "STATE_val_df_labeled = pd.read_pickle('STATE_val_df_labeled')"
   ]
  },
  {
   "cell_type": "markdown",
   "metadata": {},
   "source": [
    "## LSTM classifier for word sense"
   ]
  },
  {
   "cell_type": "code",
   "execution_count": 27,
   "metadata": {
    "collapsed": true
   },
   "outputs": [],
   "source": [
    "# keras\n",
    "import keras\n",
    "from keras.models import Sequential\n",
    "from keras.layers import Dense, Embedding, Reshape, Activation, SimpleRNN, GRU, LSTM, Bidirectional, Convolution1D, MaxPooling1D, Merge, Dropout\n",
    "from IPython.display import SVG\n",
    "from keras.utils import np_utils\n",
    "from keras.utils.data_utils import get_file\n",
    "from keras.preprocessing.text import Tokenizer\n",
    "from keras.utils.vis_utils import model_to_dot, plot_model\n",
    "from keras.datasets import imdb, reuters\n",
    "from keras.preprocessing import sequence\n",
    "from keras.optimizers import SGD, RMSprop"
   ]
  },
  {
   "cell_type": "code",
   "execution_count": 28,
   "metadata": {
    "collapsed": true
   },
   "outputs": [],
   "source": [
    "Y = keras.utils.to_categorical(STATE_df_labeled['sense_labels'].apply((lambda x: x-1)), num_classes=3)\n",
    "Y_val = keras.utils.to_categorical(STATE_val_df_labeled['sense_labels'].apply((lambda x: x-1)), num_classes=3)"
   ]
  },
  {
   "cell_type": "code",
   "execution_count": 29,
   "metadata": {
    "collapsed": true
   },
   "outputs": [],
   "source": [
    "def clean_lists(x):\n",
    "    return \" \".join(x)\n",
    "\n",
    "STATE_df_labeled['clean'] = STATE_df_labeled['window'].apply(clean_lists)\n",
    "STATE_val_df_labeled['clean'] = STATE_val_df_labeled['window'].apply(clean_lists)"
   ]
  },
  {
   "cell_type": "code",
   "execution_count": 30,
   "metadata": {
    "collapsed": true
   },
   "outputs": [],
   "source": [
    "corpus = [ x for x in STATE_df_labeled['clean']]\n",
    "val_corpus = [ x for x in STATE_val_df_labeled['clean']]"
   ]
  },
  {
   "cell_type": "code",
   "execution_count": 31,
   "metadata": {
    "collapsed": true
   },
   "outputs": [],
   "source": [
    "my_filter= '!\\“#$%&()*+,-./:;<=>?@[\\\\]^_`{|}~\\t\\n'\n",
    "tokenizer = Tokenizer(filters=my_filter)\n",
    "tokenizer.fit_on_texts(corpus)\n",
    "sequences = tokenizer.texts_to_sequences(corpus)\n",
    "\n",
    "#tokenizer2 = Tokenizer(filters=my_filter)\n",
    "tokenizer.fit_on_texts(val_corpus)\n",
    "val_sequences = tokenizer.texts_to_sequences(val_corpus)\n"
   ]
  },
  {
   "cell_type": "markdown",
   "metadata": {},
   "source": [
    "## Building a LSTM"
   ]
  },
  {
   "cell_type": "code",
   "execution_count": 32,
   "metadata": {
    "collapsed": true
   },
   "outputs": [],
   "source": [
    "sequences = sequence.pad_sequences(sequences, maxlen=12)\n",
    "val_sequences = sequence.pad_sequences(val_sequences, maxlen=12)"
   ]
  },
  {
   "cell_type": "code",
   "execution_count": 33,
   "metadata": {
    "collapsed": true
   },
   "outputs": [],
   "source": [
    "# Train, test, split\n",
    "X_train,X_test, y_train,  y_test = sequences, val_sequences, Y, Y_val\n",
    "\n",
    "\n"
   ]
  },
  {
   "cell_type": "code",
   "execution_count": 34,
   "metadata": {
    "collapsed": true
   },
   "outputs": [],
   "source": [
    "max_features = len(tokenizer.word_index) + 1\n",
    "nb_epoch = 20\n",
    "\n",
    "# cut texts after this number of words (among top max_features most common words)\n",
    "batch_size = 32\n",
    "\n",
    "LSTM_model = Sequential()\n",
    "LSTM_model.add(Embedding(max_features, output_dim=128))\n",
    "# Bidirectional LSTM!!!\n",
    "LSTM_model.add(Bidirectional(LSTM(128)))\n",
    "LSTM_model.add(Dropout(0.5))\n",
    "LSTM_model.add(Dense(3, activation='sigmoid'))\n"
   ]
  },
  {
   "cell_type": "code",
   "execution_count": 35,
   "metadata": {},
   "outputs": [
    {
     "name": "stdout",
     "output_type": "stream",
     "text": [
      "Train...\n",
      "Train on 434 samples, validate on 271 samples\n",
      "Epoch 1/20\n",
      "434/434 [==============================] - 0s - loss: 1.0508 - acc: 0.5184 - val_loss: 0.9568 - val_acc: 0.5240\n",
      "Epoch 2/20\n",
      "434/434 [==============================] - 0s - loss: 0.8639 - acc: 0.5438 - val_loss: 0.9446 - val_acc: 0.5240\n",
      "Epoch 3/20\n",
      "434/434 [==============================] - 0s - loss: 0.7745 - acc: 0.5438 - val_loss: 0.9220 - val_acc: 0.5240\n",
      "Epoch 4/20\n",
      "434/434 [==============================] - 0s - loss: 0.5210 - acc: 0.7442 - val_loss: 1.0738 - val_acc: 0.5314\n",
      "Epoch 5/20\n",
      "434/434 [==============================] - 0s - loss: 0.1614 - acc: 0.9424 - val_loss: 2.0652 - val_acc: 0.4576\n",
      "Epoch 6/20\n",
      "434/434 [==============================] - 0s - loss: 0.0516 - acc: 0.9931 - val_loss: 2.0714 - val_acc: 0.4576\n",
      "Epoch 7/20\n",
      "434/434 [==============================] - 0s - loss: 0.0221 - acc: 1.0000 - val_loss: 2.2717 - val_acc: 0.4871\n",
      "Epoch 8/20\n",
      "434/434 [==============================] - 0s - loss: 0.0099 - acc: 1.0000 - val_loss: 2.3585 - val_acc: 0.4797\n",
      "Epoch 9/20\n",
      "434/434 [==============================] - 0s - loss: 0.0045 - acc: 1.0000 - val_loss: 2.1868 - val_acc: 0.4797\n",
      "Epoch 10/20\n",
      "434/434 [==============================] - 0s - loss: 0.0028 - acc: 1.0000 - val_loss: 2.3459 - val_acc: 0.4871\n",
      "Epoch 11/20\n",
      "434/434 [==============================] - 0s - loss: 0.0027 - acc: 1.0000 - val_loss: 2.4033 - val_acc: 0.4871\n",
      "Epoch 12/20\n",
      "434/434 [==============================] - 0s - loss: 0.0015 - acc: 1.0000 - val_loss: 2.4551 - val_acc: 0.4908\n",
      "Epoch 13/20\n",
      "434/434 [==============================] - 0s - loss: 0.0014 - acc: 1.0000 - val_loss: 2.5432 - val_acc: 0.4945\n",
      "Epoch 14/20\n",
      "434/434 [==============================] - 0s - loss: 0.0013 - acc: 1.0000 - val_loss: 2.5127 - val_acc: 0.4686\n",
      "Epoch 15/20\n",
      "434/434 [==============================] - 0s - loss: 9.0010e-04 - acc: 1.0000 - val_loss: 2.6655 - val_acc: 0.4797\n",
      "Epoch 16/20\n",
      "434/434 [==============================] - 0s - loss: 7.7040e-04 - acc: 1.0000 - val_loss: 2.6770 - val_acc: 0.4871\n",
      "Epoch 17/20\n",
      "434/434 [==============================] - 0s - loss: 6.9019e-04 - acc: 1.0000 - val_loss: 2.7482 - val_acc: 0.4908\n",
      "Epoch 18/20\n",
      "434/434 [==============================] - 0s - loss: 7.3768e-04 - acc: 1.0000 - val_loss: 2.8185 - val_acc: 0.4871\n",
      "Epoch 19/20\n",
      "434/434 [==============================] - 0s - loss: 6.6656e-04 - acc: 1.0000 - val_loss: 2.7730 - val_acc: 0.4760\n",
      "Epoch 20/20\n",
      "434/434 [==============================] - 0s - loss: 4.5650e-04 - acc: 1.0000 - val_loss: 2.8479 - val_acc: 0.4871\n"
     ]
    }
   ],
   "source": [
    "LSTM_model.compile('adam', 'categorical_crossentropy', metrics=['accuracy'])\n",
    "\n",
    "print('Train...')\n",
    "history = LSTM_model.fit(X_train, y_train,\n",
    "          batch_size=batch_size,\n",
    "          epochs=nb_epoch,\n",
    "          validation_data = [X_test, y_test])"
   ]
  },
  {
   "cell_type": "code",
   "execution_count": 16,
   "metadata": {},
   "outputs": [
    {
     "name": "stdout",
     "output_type": "stream",
     "text": [
      "[0.96163911881042141, 0.92136411385342643, 0.93627227892295017, 1.1494698581660365, 1.9204266660767728, 2.3904732593311153, 2.6893451468970944, 2.4579624909756368, 3.4392032077831534, 2.1637966254540477, 2.1584397066123371, 2.3695225786019076, 2.5054884563952795, 2.5872767015576801, 2.6410739386653548, 2.68239881103769, 2.7194641533812915, 2.7661568080367198, 2.7999256017903122, 2.8300447032900315]\n"
     ]
    }
   ],
   "source": [
    "print(history.history['val_loss'])"
   ]
  },
  {
   "cell_type": "code",
   "execution_count": 17,
   "metadata": {
    "collapsed": true
   },
   "outputs": [],
   "source": [
    "accuracy_history = []\n",
    "accuracy_history.append(history.history['acc'])"
   ]
  },
  {
   "cell_type": "code",
   "execution_count": 18,
   "metadata": {},
   "outputs": [
    {
     "name": "stdout",
     "output_type": "stream",
     "text": [
      "Train...\n",
      "Train on 434 samples, validate on 271 samples\n",
      "Epoch 1/20\n",
      "434/434 [==============================] - 0s - loss: 9.8255e-04 - acc: 1.0000 - val_loss: 3.1283 - val_acc: 0.4244\n",
      "Epoch 2/20\n",
      "434/434 [==============================] - 0s - loss: 3.8422e-04 - acc: 1.0000 - val_loss: 3.1233 - val_acc: 0.4207\n",
      "Epoch 3/20\n",
      "434/434 [==============================] - 0s - loss: 1.6277e-04 - acc: 1.0000 - val_loss: 3.3384 - val_acc: 0.4207\n",
      "Epoch 4/20\n",
      "434/434 [==============================] - 0s - loss: 9.8870e-05 - acc: 1.0000 - val_loss: 3.7294 - val_acc: 0.4096\n",
      "Epoch 5/20\n",
      "434/434 [==============================] - 0s - loss: 4.1781e-05 - acc: 1.0000 - val_loss: 3.8763 - val_acc: 0.4022\n",
      "Epoch 6/20\n",
      "434/434 [==============================] - 0s - loss: 5.7276e-05 - acc: 1.0000 - val_loss: 4.1570 - val_acc: 0.3985\n",
      "Epoch 7/20\n",
      "434/434 [==============================] - 0s - loss: 1.5411e-05 - acc: 1.0000 - val_loss: 4.2568 - val_acc: 0.3948\n",
      "Epoch 8/20\n",
      "434/434 [==============================] - 0s - loss: 1.0827e-05 - acc: 1.0000 - val_loss: 4.1818 - val_acc: 0.3801\n",
      "Epoch 9/20\n",
      "434/434 [==============================] - 0s - loss: 0.0248 - acc: 0.9862 - val_loss: 3.6296 - val_acc: 0.5092\n",
      "Epoch 10/20\n",
      "434/434 [==============================] - 0s - loss: 0.0218 - acc: 0.9977 - val_loss: 2.2421 - val_acc: 0.5055\n",
      "Epoch 11/20\n",
      "434/434 [==============================] - 0s - loss: 0.0020 - acc: 1.0000 - val_loss: 2.8919 - val_acc: 0.5018\n",
      "Epoch 12/20\n",
      "434/434 [==============================] - 0s - loss: 1.6771e-04 - acc: 1.0000 - val_loss: 3.1983 - val_acc: 0.5240\n",
      "Epoch 13/20\n",
      "434/434 [==============================] - 0s - loss: 1.4747e-04 - acc: 1.0000 - val_loss: 3.4240 - val_acc: 0.5129\n",
      "Epoch 14/20\n",
      "434/434 [==============================] - 0s - loss: 1.0089e-04 - acc: 1.0000 - val_loss: 3.4929 - val_acc: 0.5166\n",
      "Epoch 15/20\n",
      "434/434 [==============================] - 0s - loss: 1.0318e-04 - acc: 1.0000 - val_loss: 3.5377 - val_acc: 0.5240\n",
      "Epoch 16/20\n",
      "434/434 [==============================] - 0s - loss: 6.0562e-05 - acc: 1.0000 - val_loss: 3.5615 - val_acc: 0.5203\n",
      "Epoch 17/20\n",
      "434/434 [==============================] - 0s - loss: 7.1321e-05 - acc: 1.0000 - val_loss: 3.5791 - val_acc: 0.5203\n",
      "Epoch 18/20\n",
      "434/434 [==============================] - 0s - loss: 5.4352e-05 - acc: 1.0000 - val_loss: 3.6010 - val_acc: 0.5203\n",
      "Epoch 19/20\n",
      "434/434 [==============================] - 0s - loss: 6.5067e-05 - acc: 1.0000 - val_loss: 3.6257 - val_acc: 0.5166\n",
      "Epoch 20/20\n",
      "434/434 [==============================] - 0s - loss: 6.2543e-05 - acc: 1.0000 - val_loss: 3.6466 - val_acc: 0.5092\n"
     ]
    }
   ],
   "source": [
    "LSTM_model.compile('adam', 'categorical_crossentropy', metrics=['accuracy'])\n",
    "\n",
    "print('Train...')\n",
    "history = LSTM_model.fit(X_train, y_train,\n",
    "          batch_size=batch_size,\n",
    "          epochs=nb_epoch,\n",
    "          validation_data = [X_test, y_test])"
   ]
  },
  {
   "cell_type": "code",
   "execution_count": 19,
   "metadata": {
    "collapsed": true
   },
   "outputs": [],
   "source": [
    "accuracy_history.append(history.history['acc'])"
   ]
  },
  {
   "cell_type": "code",
   "execution_count": 20,
   "metadata": {},
   "outputs": [
    {
     "name": "stdout",
     "output_type": "stream",
     "text": [
      "Train...\n",
      "Train on 434 samples, validate on 271 samples\n",
      "Epoch 1/20\n",
      "434/434 [==============================] - 0s - loss: 1.3217e-05 - acc: 1.0000 - val_loss: 4.6100 - val_acc: 0.5018\n",
      "Epoch 2/20\n",
      "434/434 [==============================] - 0s - loss: 2.1884e-06 - acc: 1.0000 - val_loss: 5.4533 - val_acc: 0.5277\n",
      "Epoch 3/20\n",
      "434/434 [==============================] - 0s - loss: 8.6153e-07 - acc: 1.0000 - val_loss: 5.6848 - val_acc: 0.5240\n",
      "Epoch 4/20\n",
      "434/434 [==============================] - 0s - loss: 1.1941e-06 - acc: 1.0000 - val_loss: 5.6078 - val_acc: 0.5055cc: 1\n",
      "Epoch 5/20\n",
      "434/434 [==============================] - 0s - loss: 6.7996e-07 - acc: 1.0000 - val_loss: 5.6196 - val_acc: 0.4945\n",
      "Epoch 6/20\n",
      "434/434 [==============================] - 0s - loss: 4.6365e-07 - acc: 1.0000 - val_loss: 5.7448 - val_acc: 0.5129\n",
      "Epoch 7/20\n",
      "434/434 [==============================] - 0s - loss: 5.1365e-07 - acc: 1.0000 - val_loss: 5.7792 - val_acc: 0.5129\n",
      "Epoch 8/20\n",
      "434/434 [==============================] - 0s - loss: 3.3552e-07 - acc: 1.0000 - val_loss: 5.7487 - val_acc: 0.5129\n",
      "Epoch 9/20\n",
      "434/434 [==============================] - 0s - loss: 3.4032e-07 - acc: 1.0000 - val_loss: 5.7526 - val_acc: 0.5129\n",
      "Epoch 10/20\n",
      "434/434 [==============================] - 0s - loss: 2.5174e-07 - acc: 1.0000 - val_loss: 5.7717 - val_acc: 0.5129\n",
      "Epoch 11/20\n",
      "434/434 [==============================] - 0s - loss: 2.8992e-07 - acc: 1.0000 - val_loss: 5.8675 - val_acc: 0.5129\n",
      "Epoch 12/20\n",
      "434/434 [==============================] - 0s - loss: 2.4941e-07 - acc: 1.0000 - val_loss: 5.8775 - val_acc: 0.5092cc: 1.\n",
      "Epoch 13/20\n",
      "434/434 [==============================] - 0s - loss: 2.8209e-07 - acc: 1.0000 - val_loss: 5.8298 - val_acc: 0.5129\n",
      "Epoch 14/20\n",
      "434/434 [==============================] - 0s - loss: 2.3032e-07 - acc: 1.0000 - val_loss: 5.8312 - val_acc: 0.5129\n",
      "Epoch 15/20\n",
      "434/434 [==============================] - 0s - loss: 2.1246e-07 - acc: 1.0000 - val_loss: 5.8175 - val_acc: 0.5129\n",
      "Epoch 16/20\n",
      "434/434 [==============================] - 0s - loss: 2.1054e-07 - acc: 1.0000 - val_loss: 5.8181 - val_acc: 0.5129\n",
      "Epoch 17/20\n",
      "434/434 [==============================] - 0s - loss: 2.0724e-07 - acc: 1.0000 - val_loss: 5.8401 - val_acc: 0.5129\n",
      "Epoch 18/20\n",
      "434/434 [==============================] - 0s - loss: 1.6645e-07 - acc: 1.0000 - val_loss: 5.8711 - val_acc: 0.5129\n",
      "Epoch 19/20\n",
      "434/434 [==============================] - 0s - loss: 2.3705e-07 - acc: 1.0000 - val_loss: 5.8617 - val_acc: 0.5129\n",
      "Epoch 20/20\n",
      "434/434 [==============================] - 0s - loss: 1.8101e-07 - acc: 1.0000 - val_loss: 5.8633 - val_acc: 0.5129\n"
     ]
    }
   ],
   "source": [
    "LSTM_model.compile('adam', 'categorical_crossentropy', metrics=['accuracy'])\n",
    "\n",
    "print('Train...')\n",
    "history = LSTM_model.fit(X_train, y_train,\n",
    "          batch_size=batch_size,\n",
    "          epochs=nb_epoch,\n",
    "          validation_data = [X_test, y_test])"
   ]
  },
  {
   "cell_type": "code",
   "execution_count": 21,
   "metadata": {
    "collapsed": true
   },
   "outputs": [],
   "source": [
    "accuracy_history.append(history.history['acc'])"
   ]
  },
  {
   "cell_type": "code",
   "execution_count": 36,
   "metadata": {},
   "outputs": [
    {
     "data": {
      "text/plain": [
       "array([[  7.79900700e-02,   1.62087765e-03,   6.75133342e-05]], dtype=float32)"
      ]
     },
     "execution_count": 36,
     "metadata": {},
     "output_type": "execute_result"
    }
   ],
   "source": [
    "LSTM_model.predict(val_sequences[0:1], batch_size=32, verbose=0)"
   ]
  },
  {
   "cell_type": "code",
   "execution_count": null,
   "metadata": {
    "collapsed": true
   },
   "outputs": [],
   "source": []
  },
  {
   "cell_type": "code",
   "execution_count": null,
   "metadata": {
    "collapsed": true
   },
   "outputs": [],
   "source": []
  },
  {
   "cell_type": "code",
   "execution_count": null,
   "metadata": {
    "collapsed": true
   },
   "outputs": [],
   "source": []
  },
  {
   "cell_type": "code",
   "execution_count": null,
   "metadata": {
    "collapsed": true
   },
   "outputs": [],
   "source": []
  },
  {
   "cell_type": "code",
   "execution_count": null,
   "metadata": {
    "collapsed": true
   },
   "outputs": [],
   "source": []
  },
  {
   "cell_type": "code",
   "execution_count": null,
   "metadata": {
    "collapsed": true
   },
   "outputs": [],
   "source": []
  },
  {
   "cell_type": "code",
   "execution_count": 22,
   "metadata": {
    "collapsed": true
   },
   "outputs": [],
   "source": [
    "import matplotlib.pyplot as plt\n",
    "\n",
    "% matplotlib inline"
   ]
  },
  {
   "cell_type": "code",
   "execution_count": 25,
   "metadata": {},
   "outputs": [
    {
     "data": {
      "image/png": "[encoded data removed]",
      "text/plain": [
       "<matplotlib.figure.Figure at 0x7f01628c38d0>"
      ]
     },
     "metadata": {},
     "output_type": "display_data"
    }
   ],
   "source": [
    "x = range(0,len(accuracy_history))\n",
    "ax = plt.plot(x,accuracy_history)\n"
   ]
  },
  {
   "cell_type": "code",
   "execution_count": null,
   "metadata": {
    "collapsed": true
   },
   "outputs": [],
   "source": []
  }
 ],
 "metadata": {
  "kernelspec": {
   "display_name": "Python 3",
   "language": "python",
   "name": "python3"
  },
  "language_info": {
   "codemirror_mode": {
    "name": "ipython",
    "version": 3
   },
   "file_extension": ".py",
   "mimetype": "text/x-python",
   "name": "python",
   "nbconvert_exporter": "python",
   "pygments_lexer": "ipython3",
   "version": "3.6.1"
  }
 },
 "nbformat": 4,
 "nbformat_minor": 2
}
