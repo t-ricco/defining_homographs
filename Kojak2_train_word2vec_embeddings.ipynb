{
 "cells": [
  {
   "cell_type": "markdown",
   "metadata": {},
   "source": [
    "### Project Kojak\n",
    "\n",
    "** The problem  **\n",
    "\n",
    "We will attempt to identify amboguously defined words - words that are homographs (spelled the same, but with multiple meanings) and determine the exact meaning of the word from a context window.\n",
    "\n",
    "Here we attempt to do this in a few stages\n",
    "1. train a word embedding on some training corpus using skip-gram (Here we use 1000 sholarly research papers) \n",
    "2. identify common homographs and extract the various context windows\n",
    "3. interpret the context windows as vectors in the embedding space and appy a clustering algorith (DBSCAN). Each cluster is interpreted as a distinct definition of the homograph. Each cluster then is representative vector.\n",
    "4. apply to a test corpus - match context of given homograph to most similar group.\n"
   ]
  },
  {
   "cell_type": "markdown",
   "metadata": {},
   "source": [
    "### This notebook\n",
    "\n",
    "This notebook takes a set of training data, trains a word embedding model, and saves it for further use."
   ]
  },
  {
   "cell_type": "code",
   "execution_count": 1,
   "metadata": {},
   "outputs": [
    {
     "name": "stderr",
     "output_type": "stream",
     "text": [
      "Using Theano backend.\n"
     ]
    }
   ],
   "source": [
    "import gensim\n",
    "import json\n",
    "import os\n",
    "import re\n",
    "import time\n",
    "from nltk.corpus import stopwords\n",
    "from pprint import pprint\n",
    "\n"
   ]
  },
  {
   "cell_type": "code",
   "execution_count": 24,
   "metadata": {
    "collapsed": true
   },
   "outputs": [],
   "source": [
    "# Declare stopwords, preprocess the data from source file\n",
    "# Define class MyPapers, which takes a json file, loads the appropriate text data,\n",
    "# and preprocesses the text to create a list of tokenized \"sentences\"\n",
    "\n",
    "stop = stopwords.words('english')\n",
    "stop += ['?','!',':',';','[',']','[]','“' ]\n",
    "stop += ['.', ',', '(', ')', \"'\", '\"',\"''\",'\"\"',\"``\",'”', '“', '?', '!', '’', 'et', 'al', 'al.']\n",
    "stop = set(stop)\n",
    "\n",
    "class MyPapers(object):\n",
    "    # a memory-friendly way to load a large corpora\n",
    "     def __init__(self, dirname):\n",
    "            self.dirname = dirname\n",
    " \n",
    "     def __iter__(self):\n",
    "        with open(self.dirname) as data_file:    \n",
    "            data = json.load(data_file)\n",
    "        # iterate through all file names in our directory\n",
    "        for paper in data:\n",
    "            try:\n",
    "                line = [word for word in paper['full_text'].lower().split() if word not in stop]\n",
    "                line = [re.sub(r'[?\\.,!:;\\(\\)“\\[\\]]',' ',l) for l in line]\n",
    "                yield line\n",
    "            except:\n",
    "                print(paper)\n",
    "                print(\"Empty document found\")\n",
    "                continue\n",
    "                "
   ]
  },
  {
   "cell_type": "markdown",
   "metadata": {},
   "source": [
    "## Extract Context Window "
   ]
  },
  {
   "cell_type": "code",
   "execution_count": 3,
   "metadata": {
    "collapsed": true
   },
   "outputs": [],
   "source": [
    "# Declare what word we are searchig for\n",
    "target = u'extract'"
   ]
  },
  {
   "cell_type": "code",
   "execution_count": 25,
   "metadata": {},
   "outputs": [],
   "source": [
    "#Instantiate iterable on the data\n",
    "\n",
    "#papers is an iterable of scholarly papers, tokenized for prcessing\n",
    "papers = MyPapers('data/train_data.json') \n",
    "\n"
   ]
  },
  {
   "cell_type": "code",
   "execution_count": 5,
   "metadata": {
    "collapsed": true
   },
   "outputs": [],
   "source": [
    "# Arguments: target word and a starting number\n",
    "# Prints all context windows for the target word for 10 papers in \n",
    "\n",
    "def print_10_contexts(target, paper_start, target_corpus):\n",
    "    \n",
    "    paper_count = 0\n",
    "    print(target.upper())\n",
    "    while paper_count < 10:\n",
    "    #for paper_num in range(paper_start,paper_start + 10 ):\n",
    "        try:\n",
    "            paper = target_corpus[paper_start + paper_count]\n",
    "            paper_count += 1\n",
    "            windows = generate_windows([paper],6)\n",
    "            count = 1\n",
    "        except:\n",
    "            break\n",
    "        print('\\nPAPER {}'.format(paper_count))\n",
    "        for w in windows:\n",
    "            if w[0] == target:\n",
    "                print('{}: {}'.format(count, make_sentence(w[1])))\n",
    "                count += 1\n",
    "    "
   ]
  },
  {
   "cell_type": "code",
   "execution_count": 6,
   "metadata": {
    "collapsed": true
   },
   "outputs": [],
   "source": [
    "# Takes a list of strings (words_list)\n",
    "# Returns single string of all words in words_list seperated by a white space.\n",
    "\n",
    "def make_sentence(words_list):\n",
    "    return ''.join([word + ' ' for word in words_list]).encode('utf-8')\n",
    "    "
   ]
  },
  {
   "cell_type": "code",
   "execution_count": 7,
   "metadata": {
    "collapsed": true
   },
   "outputs": [],
   "source": [
    "#paper_start = 50\n",
    "\n",
    "#print_10_contexts(target, paper_start, target_corpus)"
   ]
  },
  {
   "cell_type": "markdown",
   "metadata": {},
   "source": [
    "## Word embeddings"
   ]
  },
  {
   "cell_type": "code",
   "execution_count": 8,
   "metadata": {
    "collapsed": true
   },
   "outputs": [],
   "source": [
    "import numpy as np\n",
    "from sklearn.cluster import DBSCAN\n",
    "from sklearn.cluster import AgglomerativeClustering\n",
    "from functools import reduce"
   ]
  },
  {
   "cell_type": "code",
   "execution_count": 9,
   "metadata": {
    "collapsed": true
   },
   "outputs": [],
   "source": [
    "#Initialize the model\n",
    "\n",
    "model = gensim.models.word2vec.Word2Vec(sentences = papers, size=300, window=6, min_count=1, workers=4,sg=1)"
   ]
  },
  {
   "cell_type": "code",
   "execution_count": 10,
   "metadata": {},
   "outputs": [
    {
     "data": {
      "text/plain": [
       "2848"
      ]
     },
     "execution_count": 10,
     "metadata": {},
     "output_type": "execute_result"
    }
   ],
   "source": [
    "model.corpus_count"
   ]
  },
  {
   "cell_type": "code",
   "execution_count": 11,
   "metadata": {
    "collapsed": true
   },
   "outputs": [],
   "source": [
    "model.save(\"data/journal.txt\")"
   ]
  },
  {
   "cell_type": "code",
   "execution_count": 12,
   "metadata": {
    "collapsed": true
   },
   "outputs": [],
   "source": [
    "vectors = model.wv"
   ]
  },
  {
   "cell_type": "code",
   "execution_count": 13,
   "metadata": {},
   "outputs": [
    {
     "data": {
      "text/plain": [
       "201268"
      ]
     },
     "execution_count": 13,
     "metadata": {},
     "output_type": "execute_result"
    }
   ],
   "source": [
    "len(vectors.vocab)"
   ]
  },
  {
   "cell_type": "markdown",
   "metadata": {
    "collapsed": true
   },
   "source": [
    "## identifying n-grams"
   ]
  },
  {
   "cell_type": "code",
   "execution_count": 26,
   "metadata": {
    "collapsed": true
   },
   "outputs": [],
   "source": [
    "phrases = gensim.models.phrases.Phrases(sentences = papers, min_count = 5, threshold = 150)"
   ]
  },
  {
   "cell_type": "code",
   "execution_count": 27,
   "metadata": {},
   "outputs": [
    {
     "name": "stdout",
     "output_type": "stream",
     "text": [
      "last decade   587.762357887\n",
      "computer aided   544.708211144\n",
      "design  cad    297.841432453\n",
      "written consent   223.714887922\n",
      "written consent   223.714887922\n",
      "tumor resection   233.478980447\n",
      "bone graft    237.982703395\n",
      "squamous cell   1275.14073227\n",
      "= 20    178.952751796\n",
      "cell carcinoma   244.72397892\n",
      "1 h   172.89111582\n",
      "cardiac arrest   1695.01596958\n",
      "ct scan   1135.12351628\n",
      "bone grafts   1065.07013159\n",
      "iliac crest   11257.3030303\n",
      "tumor resection   233.478980447\n",
      "direct indirect   399.820296049\n",
      "take account   319.685899918\n",
      "subject matter    185.036194587\n",
      "emphasis placed   437.83161048\n",
      "formative assessment   412.309655938\n",
      "authentic  inquiry-based   12383.0333333\n",
      "teaching learning    159.12964592\n",
      "recent years    320.141311212\n",
      "authentic  inquiry-based   12383.0333333\n",
      "southeast asia    652.310798946\n",
      "southeast asia   1551.35055293\n",
      "daily life    216.807317621\n",
      "authentic  inquiry-based   12383.0333333\n",
      "authentic  inquiry-based   12383.0333333\n",
      "puts it    205.017108168\n",
      "subject matter    185.036194587\n",
      "authentic  inquiry-based   12383.0333333\n",
      "late 1980s    197.88227983\n",
      "authentic  inquiry-based   12383.0333333\n",
      "southeast asian   516.581533327\n",
      "answer questions   201.226527517\n",
      "take place    230.355230012\n",
      "student achievement   269.719746045\n",
      "subject matter    185.036194587\n",
      "this  turn    336.851443252\n",
      "take place   207.464982787\n",
      "this  turn    336.851443252\n",
      "heavily reliant   1615.17826087\n",
      "decision making   359.246857878\n",
      "long term   223.157691173\n",
      "teaching learning    159.12964592\n",
      "student achievement   269.719746045\n",
      "takes place    535.868734223\n",
      "formative assessment   412.309655938\n",
      "rely heavily   319.83727938\n",
      "stellate cells   409.356473829\n",
      "resonance frequency   192.23613966\n",
      "piecewise linear   317.60416073\n",
      "wide range   585.535427196\n",
      "numerical simulations   232.272203079\n",
      "everyday life    719.029335269\n",
      "hexagonal lattice   947.681122449\n",
      "nobel prize   22514.6060606\n",
      "stellate cells   409.356473829\n",
      "stellate cells   409.356473829\n",
      "stellate cells   409.356473829\n",
      "stellate cells   409.356473829\n",
      "resonance frequency   192.23613966\n",
      "described above    190.383452439\n",
      "piecewise linear   317.60416073\n",
      "stellate cells   409.356473829\n",
      "piecewise linear   317.60416073\n",
      "wide range   585.535427196\n",
      "stellate cells   409.356473829\n",
      "gives rise   308.07214785\n",
      "partial differential   409.356473829\n",
      "dating back   232.909717868\n",
      "firing rate   425.732708054\n",
      "neural networks   294.825887942\n",
      "piecewise linear   317.60416073\n",
      "wide range   585.535427196\n",
      "briefly outline   301.208918919\n",
      "give rise   304.54123498\n",
      "feedback loops   1029.63137472\n",
      "suppress noise   373.211921639\n",
      "video clip   530.827816147\n",
      "video clips   231.386483961\n",
      "naked eye    34216.2763158\n",
      "even though   367.030559177\n",
      "united nations   1721.95801625\n",
      "rio de   2745.00738916\n",
      "shed light   1931.11097612\n",
      "civil society    411.662388032\n",
      "industrial revolution    260.314861314\n",
      "long term   223.157691173\n",
      "human beings    476.881899872\n",
      "new york   340.23476615\n",
      "renewable energies    382.65167382\n",
      "solar  wind    11257.3030303\n",
      "civil society    411.662388032\n",
      "renewable energies   1304.49434257\n",
      "answer question   264.695659371\n",
      "united nations   1721.95801625\n",
      "carbon emissions    272.729766407\n",
      "gross domestic   987.570225964\n",
      "product  gdp    1453.66043478\n",
      "let alone   180.664316109\n",
      "absolute decoupling   1985.06641221\n",
      "fossil fuels   9674.24479167\n",
      "air pollution    884.301858989\n",
      "climate change    588.057448457\n",
      "absolute decoupling   1985.06641221\n",
      "developing countries   174.261656816\n",
      "south africa   517.780620952\n",
      "united nations   1721.95801625\n",
      "rio de   2745.00738916\n",
      "united nations   1721.95801625\n",
      "starting point   339.355699959\n",
      "civil society    411.662388032\n",
      "per capita   1719.75887032\n",
      "economic growth    253.728675195\n",
      "economic growth    253.728675195\n",
      "united nations   1721.95801625\n",
      "early warning   549.904440789\n",
      "pattern generator   198.446047009\n",
      "knee extensor   5714.02520829\n",
      "pattern generator   198.446047009\n",
      "pattern generator   198.446047009\n",
      "even though   367.030559177\n",
      "knee extensor   5714.02520829\n",
      "knee extensor   5714.02520829\n",
      "knee extensor   5714.02520829\n",
      "pattern generator   198.446047009\n",
      "excitatory inhibitory   1954.07305669\n",
      "excitatory inhibitory   1954.07305669\n",
      "knee extensor   5714.02520829\n",
      "excitation inhibition   388.555042273\n",
      "knee extensor   5714.02520829\n",
      "hip flexor   2286.09846154\n",
      "hip extensor   2212.35334988\n",
      "excitatory inhibitory   1954.07305669\n",
      "hip extensor   2212.35334988\n",
      "hip flexor   2286.09846154\n",
      "knee extensor   5714.02520829\n",
      "knee extensor   5714.02520829\n",
      "hip flexor   2286.09846154\n",
      "gain insight   172.786511628\n",
      "mechanisms underlying   170.896600087\n",
      "excitation inhibition   388.555042273\n",
      "remainder paper   392.224151055\n",
      "organized follows    2054.39753724\n",
      "knee extensor   5714.02520829\n",
      "shown fig    240.44859083\n",
      "remainder paper   392.224151055\n",
      "knee extensor   5714.02520829\n",
      "hip extensor   2212.35334988\n",
      "knee extensor   5714.02520829\n",
      "well suited   155.891244164\n",
      "fixed points   156.567088123\n",
      "fixed points   156.567088123\n",
      "tonic spiking   2256.01821862\n",
      "fixed points   156.567088123\n",
      "tonic spiking   2256.01821862\n",
      "fixed points   156.567088123\n",
      "excitatory inhibitory   1954.07305669\n",
      "hip extensor   2212.35334988\n",
      "hip flexor   2286.09846154\n",
      "knee extensor   5714.02520829\n",
      "wide variety   452.525639574\n",
      "distinctive feature   151.104738662\n",
      "point view    571.393341427\n",
      "mechanisms underlying   170.896600087\n",
      "knee extensor   5714.02520829\n",
      "hip extensor   2212.35334988\n",
      "hip extensor   2212.35334988\n",
      "knee extensor   5714.02520829\n",
      "hip flexor   2286.09846154\n",
      "hip flexor   2286.09846154\n",
      "hip extensor   2212.35334988\n",
      "differential equations   801.748455975\n",
      "hip extensor   2212.35334988\n",
      "hip extensor   2212.35334988\n",
      "hip flexor   2286.09846154\n",
      "knee extensor   5714.02520829\n",
      "knee extensor   5714.02520829\n",
      "knee extensor   5714.02520829\n",
      "taken account   253.740457692\n",
      "mechanisms underlying   170.896600087\n",
      "excitation inhibition   388.555042273\n",
      "experimental setup   384.306131381\n",
      " as opposed   373.806523744\n",
      "excitation inhibition   388.555042273\n",
      "excitatory inhibitory   1954.07305669\n",
      "excitation inhibition   388.555042273\n",
      "capable generating   180.102294764\n",
      "point view    571.393341427\n",
      "allows us   206.446306517\n",
      "{u'publication': u'The Journal of Mathematical Neuroscience (JMN)', u'full_text': u'We discuss the notion of excitability in 2D slow/fast neural models from a geometric singular perturbation theory point of view. We focus on the inherent singular nature of slow/fast neural models and define excitability via . In particular, we show that type I excitability is associated with a novel  bifurcation while type II excitability is associated with a singular Andronov\\u2013Hopf bifurcation. In both cases, canards play an important role in the understanding of the unfolding of these singular bifurcation structures. We also explain the transition between the two excitability types and highlight all bifurcations involved, thus providing a complete analysis of excitability based on geometric singular perturbation theory.Most neurons are excitable, i.e. they are typically silent but can fire an action potential or produce a firing pattern in response to certain forms of stimulation. The fact that equivalent stimulation can elicit qualitative different spiking patterns in different neurons demonstrates that intrinsic coding properties differ significantly from one neuron to the next.We start with introducing basic assumptions on the singularly perturbed system (), respectively, ().This assumption implies that the -nullcline is a graph , and  is a monotonically increasing function. While mathematically not necessary, this reflects the property of a typical neural model where  is given as a graph of a sigmoidal function over .The first condition in () is equivalent to imposing the requirement that , ; in other words, the fold  is a regular local maximum of . Together with the second condition, this determines the direction of the reduced flow near  and qualifies this fold point as a jump point: all orbits that come in along the upper branch  jump off the fold  and follow the fast fibre towards ; see Fig.\\xa0 (right). Note that no equilibrium on  can approach the upper fold  while varying parameters (see also Remark\\xa0).These basic assumptions hold for many two-dimensional neuronal models including the canonical system (). This model has a cubic-shaped critical manifold  (Assumption\\xa0). The function  is monotonically increasing (Assumption\\xa0). It is the nonlinear nature of  imposed by Assumption\\xa0 that allows us to explore the cases of different numbers of equilibria (restricted to  and  only). If  and , where  is defined implicitly by , then Assumptions\\xa0 and  are fulfilled and  is a regular jump point for all  and .Note in Fig.\\xa0 that the  branch of the Andronov\\u2013Hopf bifurcation suddenly changes dramatically near . This almost vertical branch marks the unfolding of  within an exponentially small parameter interval of the bifurcation parameter . This is often referred to as a  [, ]; it provides the necessary continuous connection between the small Andronov\\u2013Hopf limit cycles and the large relaxation cycles as shown in Fig.\\xa0. In the singular limit, canard cycles can be identified as follows: Note that the stability switch of the equilibrium in the reduced problem () is due to the singular nature of system () at ; a stability switch of a single equilibrium without interacting with another equilibrium in a one-dimensional regular perturbation problem is otherwise not possible. In fact, for  there exists no equilibrium in the reduced problem () due to a cancellation of a simple zero. Hence, a trajectory is able to cross from  to  with nonzero speed which is a hallmark of a . One can construct singular canard cycles that are formed through concatenations of slow canard segments and fast fibres as shown in Fig.\\xa0(d). Note that these singular canard cycles have  amplitude and have a frequency  on the order of the slow time scale. These singular canard cycles will unfold to the above mentioned canard cycles in a canard explosion. The following summarises these observations.In the singular limit, we have  indicating the singular nature of the bifurcation. Note that the classic definition of type II excitability refers to the slow  frequency band of the large relaxation oscillations which does not vary much (and not to the actual intermediate  singular Andronov\\u2013Hopf bifurcation frequency).The Bautin bifurcation [] indicates for fixed  that we are dealing with a subcritical singular Andronov\\u2013Hopf bifurcation (under the variation of the parameter ) which is accompanied by another codimension-1 bifurcation, a  bifurcation that has branched of the codimension-2 Bautin point. Due to the singular nature of our problem, this SNPO bifurcation is a bifurcation of canard cycles. Thus it happens exponentially close to the canard parameter value  defined in Theorem\\xa0.Recall from () that for  we observe a codimension-2 cusp bifurcation at , which persists along a parameter curve  in  parameter space:This lemma indicates that the cusp has no singular nature with respect to the limit . For fixed , we have three equilibrium states, at least two of which are located on  (see Assumption\\xa0). This changes the global bifurcation structure of our problem. While we still observe a singular Andronov\\u2013Hopf bifurcation with respect to the parameter , the growth of the limit cycles is, however, bounded as one approaches a homoclinic connection towards one of these additional equilibria (which is of saddle type). The next theorem discusses this scenario, which describes a first transition from type II excitability towards the type I limiting situation. We formulate the results concerning the main system, but we will make the description according to the parameters introduced for the normal form () in Sect.\\xa0. For the canonical model (), the relation between  and  is trivial, while in general the relation between  and  may be complicated, though Sect.\\xa0 entails a procedure on how to compute the change of parameters.\\n                        . The presence of the saddle  shows that the canard cycles cannot grow unlimitedly during the canard explosion. We give here a short overview of the proof of the presence of small canard cycles because we will use elements of the proof to show the existence of canard homoclinics.We can further rely on the results in [], where it is shown that the maps () are smooth up to and including (at its extension) the boundary . This implies that the canard value  obtained above is actually a parameter curve along which the vector field has a homoclinic saddle loop of canard type (of \\u2018jump-back\\u2019 type). This proves part (7) of the theorem.By introducing an alternative section  between the middle and upper branch instead of , we can treat homoclinic saddle loops of the \\u2018jump-away\\u2019 type in a completely similar way. The only thing that changes is that points of  undergo a large-amplitude oscillation in their way to  in positive time (travelling along  towards the jump point , jumping off towards ). The smoothness of the transition maps and the application of the implicit function theorem is analogous. This defines  and proves part (9) of the theorem.For , the homoclinic connection breaks into a repelling large-amplitude cycle. While  proceeds to the outside of an -neighbourhood of 0, it encounters the relaxation-like attracting cycle that surrounded all repelling cycles. They disappear in a saddle-node bifurcation of limit cycles at . This proves part (10) of the theorem.Under these conditions it is well known that in -dependent rescaled coordinates, a regular Bogdanov\\u2013Takens bifurcation takes place; see []. As a consequence, the presence of small-amplitude homoclinics is clear in some parameter subset. Furthermore, as (singular) Andronov\\u2013Hopf bifurcations form part of the bifurcation diagram, canard-type orbits are present. Indeed, the double singularity in the slow dynamics at  may unfold in a way that the fold point becomes a canard point and an extra saddle-singularity in the slow dynamics on the middle branch may appear. In that way, an incomplete canard explosion can be observed that terminates in a canard-type saddle homoclinic (\\u2018jump-back\\u2019, without \\u2018head\\u2019). In fact, these are phenomena that appear locally near the Bogdanov\\u2013Takens fold point.Besides the small-amplitude phenomena near the Bogdanov\\u2013Takens point, we consider orbits that are close to the singular saddle-node homoclinic loop  shown in Fig.\\xa0. We expect the existence of large-amplitude saddle-node homoclinics (SNICs) and as in the previous section, we also expect large-amplitude saddle homoclinics as well as relaxation oscillations.Excitability is an important subject area in neuroscience and its modern treatment dates back to Alan Hodgkin\\u2019s seminal work []. His distinction of three neural excitability classes based on injected steps of currents and observed corresponding distinct frequency\\u2013current (f\\u2013I) curves still forms the basis in understanding bifurcation mechanisms of neural excitability. FitzHugh was the first to use dynamical systems techniques for the qualitative description of action potential generation and threshold phenomena [, , ]. Rinzel and Ermentrout [, ] provided then a mathematical framework based on bifurcation theory to distinguish between these excitability types: SNIC bifurcation for type I and Andronov\\u2013Hopf bifurcation for type II.This dynamical systems approach pioneered by Rinzel and Ermentrout is also used to explain more complicated neural activity such as bursting patterns. Here, the inherent multiple time-scale structure of neural models given through inherent slow and fast cell membrane processes is actively used to explain the bursting pattern. The bifurcation structure found in the fast subsystem provides a possible key to understanding the genesis of bursting patterns; see, e.g., []. Interestingly enough, the spiking pattern itself within a burst is also often a result of a multiple time-scale structure. This relaxation type behaviour is typically ignored in the bursting literature, because it would mean to consider models with (at least) three time scales\\u2014fast, intermediate and slow\\u2014which has become only recently a new research focus [\\u2013].On the other hand, the literature on neural excitability (see, e.g. []) clearly uses slow\\u2013fast decomposition to explain action potential generation for tonic spiking models, although the accompanying bifurcation analysis of such a system often ignores or just inconsequently uses the given slow/fast structure. This article actively explores the singular nature of (two-dimensional) neural models and identifies a  singular bifurcation based on the slow\\u2013fast structure\\u2014the  bifurcation\\u2014that is key to understanding type I and (part of) type II excitability. Using readily available tools and results from geometric singular perturbation theory [\\u2013, \\u2013] and bifurcation theory [, ] we are able to unfold this singular bifurcation and identify important codimension-2 bifurcation points\\u2014Bautin, Bogdanov\\u2013Takens, resonant homoclinic and saddle-node homoclinic\\u2014which organise the bifurcation landscape for  and help to explain the transitions between type I and type II excitability. For example, based on the position of the Bautin point in parameter space we identify a supercritical Andronov\\u2013Hopf bifurcation as a clear indicator of type II excitability while a subcritical Andronov\\u2013Hopf bifurcation does not necessarily guarantee a frequency band (significantly) bounded away from zero, i.e. the model could be close to type I and thus close to a homoclinic. Another important indicator for this proximity to type I is the cusp bifurcation and its corresponding saddle-node branches. Within the cusp region there are three equilibria including a saddle which is necessary to form a homoclinic loop. In this type I\\u2013II transition regime, properties of model neurons that are considered type II might show behaviour usually associated with type I and vice versa. Care has to be taken when inferring properties from such a simple excitability classification; see also [], where many of these bifurcations and observations have been highlighted.Our analytical bifurcation results provide important information for the computational neuroscience community. We show that a SNIC bifurcation associated with type I excitability only exists in a small parameter regime. Thus it is more likely to observe a (large) saddle homoclinic in one parameter continuation of neural models, although it might be very close to a saddle-node and, hence, be mistaken for a SNIC. Similarly, if one observes a subcritical Andronov\\u2013Hopf bifurcation close to a saddle-node, especially where the corresponding periodic orbits terminate nearby in a (small) homoclinic, then the other observed (large) homoclinic that terminates close to a saddle-node cannot be a SNIC.A main obstacle in a numerical bifurcation analysis is not only the stiffness of the underlying problem but also the close proximity of different bifurcation branches. Our analytical bifurcation results should be seen as a helpful guide for numerical continuation. For example, the numerical bifurcation diagrams presented, e.g., for the Morris\\u2013Lecar neural model in [], Fig.\\xa06, or for a 2D sodium spiking model in [], Figs.\\xa01\\u20132, are incomplete since the exponentially close branches , , SNPO and SNIC (Fig.\\xa0) are hard to distinguish numerically and the identification of certain codimension-2 points (Fig.\\xa0)\\u2014Bogdanov\\u2013Takens, resonant  and \\u2014is a very difficult task.', u'title': u'Neural Excitability and Singular Bifurcations', u'url': u'https://mathematical-neuroscience.springeropen.com/articles/10.1186/s13408-015-0029-2', u'abstract': [], u'authors': [u'Peter De Maesschalck', u'Martin Wechselberger'], u'publication_date': u'6 August 2015'}\n",
      "Empty document found\n"
     ]
    },
    {
     "name": "stderr",
     "output_type": "stream",
     "text": [
      "Exception RuntimeError: 'generator ignored GeneratorExit' in <generator object __iter__ at 0x117faed70> ignored\n"
     ]
    },
    {
     "ename": "UnicodeDecodeError",
     "evalue": "'ascii' codec can't decode byte 0xe2 in position 8: ordinal not in range(128)",
     "output_type": "error",
     "traceback": [
      "\u001b[0;31m---------------------------------------------------------------------------\u001b[0m",
      "\u001b[0;31mUnicodeDecodeError\u001b[0m                        Traceback (most recent call last)",
      "\u001b[0;32m<ipython-input-27-92cfa4da2529>\u001b[0m in \u001b[0;36m<module>\u001b[0;34m()\u001b[0m\n\u001b[1;32m      1\u001b[0m \u001b[0;32mfor\u001b[0m \u001b[0mphrase\u001b[0m\u001b[0;34m,\u001b[0m \u001b[0mscore\u001b[0m \u001b[0;32min\u001b[0m \u001b[0mphrases\u001b[0m\u001b[0;34m.\u001b[0m\u001b[0mexport_phrases\u001b[0m\u001b[0;34m(\u001b[0m\u001b[0mpapers\u001b[0m\u001b[0;34m)\u001b[0m\u001b[0;34m:\u001b[0m\u001b[0;34m\u001b[0m\u001b[0m\n\u001b[0;32m----> 2\u001b[0;31m     \u001b[0;32mprint\u001b[0m\u001b[0;34m(\u001b[0m\u001b[0;34mu'{0}   {1}'\u001b[0m\u001b[0;34m.\u001b[0m\u001b[0mformat\u001b[0m\u001b[0;34m(\u001b[0m\u001b[0mphrase\u001b[0m\u001b[0;34m,\u001b[0m \u001b[0mscore\u001b[0m\u001b[0;34m)\u001b[0m\u001b[0;34m)\u001b[0m\u001b[0;34m\u001b[0m\u001b[0m\n\u001b[0m",
      "\u001b[0;31mUnicodeDecodeError\u001b[0m: 'ascii' codec can't decode byte 0xe2 in position 8: ordinal not in range(128)"
     ]
    }
   ],
   "source": [
    "for phrase, score in phrases.export_phrases(papers):\n",
    "    print(u'{0}   {1}'.format(phrase, score))"
   ]
  },
  {
   "cell_type": "code",
   "execution_count": 30,
   "metadata": {},
   "outputs": [
    {
     "ename": "LookupError",
     "evalue": "unknown encoding: u",
     "output_type": "error",
     "traceback": [
      "\u001b[0;31m---------------------------------------------------------------------------\u001b[0m",
      "\u001b[0;31mLookupError\u001b[0m                               Traceback (most recent call last)",
      "\u001b[0;32m<ipython-input-30-f6e10a4795b7>\u001b[0m in \u001b[0;36m<module>\u001b[0;34m()\u001b[0m\n\u001b[0;32m----> 1\u001b[0;31m \u001b[0;34m\"Andronov\\u2013Hopf\"\u001b[0m\u001b[0;34m.\u001b[0m\u001b[0mencode\u001b[0m\u001b[0;34m(\u001b[0m\u001b[0;34m'u'\u001b[0m\u001b[0;34m)\u001b[0m\u001b[0;34m\u001b[0m\u001b[0m\n\u001b[0m",
      "\u001b[0;31mLookupError\u001b[0m: unknown encoding: u"
     ]
    }
   ],
   "source": [
    "\"Andronov\\u2013Hopf\".encode('utf-8')"
   ]
  },
  {
   "cell_type": "code",
   "execution_count": null,
   "metadata": {
    "collapsed": true
   },
   "outputs": [],
   "source": []
  },
  {
   "cell_type": "code",
   "execution_count": null,
   "metadata": {
    "collapsed": true
   },
   "outputs": [],
   "source": []
  },
  {
   "cell_type": "code",
   "execution_count": null,
   "metadata": {
    "collapsed": true
   },
   "outputs": [],
   "source": [
    "bigram = gensim.models.phrases.Phraser(phrases)"
   ]
  }
 ],
 "metadata": {
  "kernelspec": {
   "display_name": "Python 2",
   "language": "python",
   "name": "python2"
  },
  "language_info": {
   "codemirror_mode": {
    "name": "ipython",
    "version": 2
   },
   "file_extension": ".py",
   "mimetype": "text/x-python",
   "name": "python",
   "nbconvert_exporter": "python",
   "pygments_lexer": "ipython2",
   "version": "2.7.13"
  }
 },
 "nbformat": 4,
 "nbformat_minor": 2
}
